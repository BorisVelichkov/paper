{
  "nbformat": 4,
  "nbformat_minor": 0,
  "metadata": {
    "colab": {
      "name": "BERT Text Classification.ipynb",
      "version": "0.3.2",
      "provenance": [],
      "collapsed_sections": []
    },
    "kernelspec": {
      "name": "python3",
      "display_name": "Python 3"
    },
    "accelerator": "GPU"
  },
  "cells": [
    {
      "cell_type": "markdown",
      "metadata": {
        "id": "zwYoyLfLQI-t",
        "colab_type": "text"
      },
      "source": [
        "base code borrowed from [this Google Colab Notebook](https://colab.research.google.com/github/google-research/bert/blob/master/predicting_movie_reviews_with_bert_on_tf_hub.ipynb).\n",
        "\n",
        "Refactored by [Shuyi Wang](https://www.linkedin.com/in/shuyi-wang-b3955026/) and [Yan Sun](https://github.com/SunYanCN)\n",
        "\n",
        "Please refer to [this Medium Article](https://medium.com/@wshuyi/how-to-do-text-binary-classification-with-bert-f1348a25d905) for detailed information.\n",
        "\n"
      ]
    },
    {
      "cell_type": "code",
      "metadata": {
        "id": "EQHcJlAgHZ2o",
        "colab_type": "code",
        "outputId": "234e406d-2ef4-4de8-ee87-58b84ae48970",
        "colab": {
          "base_uri": "https://localhost:8080/",
          "height": 496
        }
      },
      "source": [
        "!pip install bert-text"
      ],
      "execution_count": 1,
      "outputs": [
        {
          "output_type": "stream",
          "text": [
            "Requirement already satisfied: bert-text in /usr/local/lib/python3.6/dist-packages (5.0.0)\n",
            "Requirement already satisfied: tensorflow-hub in /usr/local/lib/python3.6/dist-packages (from bert-text) (0.5.0)\n",
            "Requirement already satisfied: bert-tensorflow in /usr/local/lib/python3.6/dist-packages (from bert-text) (1.0.1)\n",
            "Requirement already satisfied: tensorflow-gpu in /usr/local/lib/python3.6/dist-packages (from bert-text) (1.14.0)\n",
            "Requirement already satisfied: tqdm in /usr/local/lib/python3.6/dist-packages (from bert-text) (4.28.1)\n",
            "Requirement already satisfied: six in /usr/local/lib/python3.6/dist-packages (from bert-text) (1.12.0)\n",
            "Requirement already satisfied: pandas in /usr/local/lib/python3.6/dist-packages (from bert-text) (0.24.2)\n",
            "Requirement already satisfied: numpy>=1.12.0 in /usr/local/lib/python3.6/dist-packages (from tensorflow-hub->bert-text) (1.16.4)\n",
            "Requirement already satisfied: protobuf>=3.4.0 in /usr/local/lib/python3.6/dist-packages (from tensorflow-hub->bert-text) (3.7.1)\n",
            "Requirement already satisfied: wrapt>=1.11.1 in /usr/local/lib/python3.6/dist-packages (from tensorflow-gpu->bert-text) (1.11.2)\n",
            "Requirement already satisfied: wheel>=0.26 in /usr/local/lib/python3.6/dist-packages (from tensorflow-gpu->bert-text) (0.33.4)\n",
            "Requirement already satisfied: termcolor>=1.1.0 in /usr/local/lib/python3.6/dist-packages (from tensorflow-gpu->bert-text) (1.1.0)\n",
            "Requirement already satisfied: astor>=0.6.0 in /usr/local/lib/python3.6/dist-packages (from tensorflow-gpu->bert-text) (0.8.0)\n",
            "Requirement already satisfied: tensorflow-estimator<1.15.0rc0,>=1.14.0rc0 in /usr/local/lib/python3.6/dist-packages (from tensorflow-gpu->bert-text) (1.14.0)\n",
            "Requirement already satisfied: grpcio>=1.8.6 in /usr/local/lib/python3.6/dist-packages (from tensorflow-gpu->bert-text) (1.15.0)\n",
            "Requirement already satisfied: google-pasta>=0.1.6 in /usr/local/lib/python3.6/dist-packages (from tensorflow-gpu->bert-text) (0.1.7)\n",
            "Requirement already satisfied: absl-py>=0.7.0 in /usr/local/lib/python3.6/dist-packages (from tensorflow-gpu->bert-text) (0.7.1)\n",
            "Requirement already satisfied: gast>=0.2.0 in /usr/local/lib/python3.6/dist-packages (from tensorflow-gpu->bert-text) (0.2.2)\n",
            "Requirement already satisfied: tensorboard<1.15.0,>=1.14.0 in /usr/local/lib/python3.6/dist-packages (from tensorflow-gpu->bert-text) (1.14.0)\n",
            "Requirement already satisfied: keras-applications>=1.0.6 in /usr/local/lib/python3.6/dist-packages (from tensorflow-gpu->bert-text) (1.0.8)\n",
            "Requirement already satisfied: keras-preprocessing>=1.0.5 in /usr/local/lib/python3.6/dist-packages (from tensorflow-gpu->bert-text) (1.1.0)\n",
            "Requirement already satisfied: python-dateutil>=2.5.0 in /usr/local/lib/python3.6/dist-packages (from pandas->bert-text) (2.5.3)\n",
            "Requirement already satisfied: pytz>=2011k in /usr/local/lib/python3.6/dist-packages (from pandas->bert-text) (2018.9)\n",
            "Requirement already satisfied: setuptools in /usr/local/lib/python3.6/dist-packages (from protobuf>=3.4.0->tensorflow-hub->bert-text) (41.0.1)\n",
            "Requirement already satisfied: werkzeug>=0.11.15 in /usr/local/lib/python3.6/dist-packages (from tensorboard<1.15.0,>=1.14.0->tensorflow-gpu->bert-text) (0.15.5)\n",
            "Requirement already satisfied: markdown>=2.6.8 in /usr/local/lib/python3.6/dist-packages (from tensorboard<1.15.0,>=1.14.0->tensorflow-gpu->bert-text) (3.1.1)\n",
            "Requirement already satisfied: h5py in /usr/local/lib/python3.6/dist-packages (from keras-applications>=1.0.6->tensorflow-gpu->bert-text) (2.8.0)\n"
          ],
          "name": "stdout"
        }
      ]
    },
    {
      "cell_type": "code",
      "metadata": {
        "id": "oZFDseXWHiSz",
        "colab_type": "code",
        "colab": {
          "base_uri": "https://localhost:8080/",
          "height": 156
        },
        "outputId": "3781dc93-db42-4bce-f570-a9367dcc9f0e"
      },
      "source": [
        "from bert_text import run_on_dfs"
      ],
      "execution_count": 2,
      "outputs": [
        {
          "output_type": "stream",
          "text": [
            "WARNING: Logging before flag parsing goes to stderr.\n",
            "W0723 18:54:25.548544 140408848086912 deprecation_wrapper.py:119] From /usr/local/lib/python3.6/dist-packages/bert/optimization.py:87: The name tf.train.Optimizer is deprecated. Please use tf.compat.v1.train.Optimizer instead.\n",
            "\n",
            "W0723 18:54:25.551292 140408848086912 deprecation_wrapper.py:119] From /usr/local/lib/python3.6/dist-packages/bert_text/bert_text.py:10: The name tf.logging.set_verbosity is deprecated. Please use tf.compat.v1.logging.set_verbosity instead.\n",
            "\n",
            "W0723 18:54:25.552781 140408848086912 deprecation_wrapper.py:119] From /usr/local/lib/python3.6/dist-packages/bert_text/bert_text.py:10: The name tf.logging.ERROR is deprecated. Please use tf.compat.v1.logging.ERROR instead.\n",
            "\n"
          ],
          "name": "stderr"
        }
      ]
    },
    {
      "cell_type": "code",
      "metadata": {
        "id": "R4pBwSidH4CT",
        "colab_type": "code",
        "colab": {}
      },
      "source": [
        "import numpy as np\n",
        "import pandas as pd\n",
        "from sklearn.preprocessing import LabelEncoder\n",
        "from sklearn.model_selection import train_test_split"
      ],
      "execution_count": 0,
      "outputs": []
    },
    {
      "cell_type": "code",
      "metadata": {
        "id": "wiOyfxH6H5ry",
        "colab_type": "code",
        "outputId": "27bd7cfa-132a-49f3-882a-e05b89708139",
        "colab": {
          "base_uri": "https://localhost:8080/",
          "height": 204
        }
      },
      "source": [
        "!wget https://raw.githubusercontent.com/BorisVelichkov/paper/master/dataset/interviews.csv -P \"dataset\""
      ],
      "execution_count": 4,
      "outputs": [
        {
          "output_type": "stream",
          "text": [
            "--2019-07-23 18:54:39--  https://raw.githubusercontent.com/BorisVelichkov/paper/master/dataset/interviews.csv\n",
            "Resolving raw.githubusercontent.com (raw.githubusercontent.com)... 151.101.0.133, 151.101.64.133, 151.101.128.133, ...\n",
            "Connecting to raw.githubusercontent.com (raw.githubusercontent.com)|151.101.0.133|:443... connected.\n",
            "HTTP request sent, awaiting response... 200 OK\n",
            "Length: 71382 (70K) [text/plain]\n",
            "Saving to: ‘dataset/interviews.csv.2’\n",
            "\n",
            "\rinterviews.csv.2      0%[                    ]       0  --.-KB/s               \rinterviews.csv.2    100%[===================>]  69.71K  --.-KB/s    in 0.02s   \n",
            "\n",
            "2019-07-23 18:54:39 (3.33 MB/s) - ‘dataset/interviews.csv.2’ saved [71382/71382]\n",
            "\n"
          ],
          "name": "stdout"
        }
      ]
    },
    {
      "cell_type": "code",
      "metadata": {
        "id": "vEGtiE42IDyj",
        "colab_type": "code",
        "outputId": "1c013d1e-4f94-4e0f-b4c5-d76cd396f3f7",
        "colab": {
          "base_uri": "https://localhost:8080/",
          "height": 204
        }
      },
      "source": [
        "df = pd.read_csv('dataset/interviews.csv', index_col=0)\n",
        "df.head()"
      ],
      "execution_count": 5,
      "outputs": [
        {
          "output_type": "execute_result",
          "data": {
            "text/html": [
              "<div>\n",
              "<style scoped>\n",
              "    .dataframe tbody tr th:only-of-type {\n",
              "        vertical-align: middle;\n",
              "    }\n",
              "\n",
              "    .dataframe tbody tr th {\n",
              "        vertical-align: top;\n",
              "    }\n",
              "\n",
              "    .dataframe thead th {\n",
              "        text-align: right;\n",
              "    }\n",
              "</style>\n",
              "<table border=\"1\" class=\"dataframe\">\n",
              "  <thead>\n",
              "    <tr style=\"text-align: right;\">\n",
              "      <th></th>\n",
              "      <th>file_name</th>\n",
              "      <th>label</th>\n",
              "      <th>text</th>\n",
              "    </tr>\n",
              "  </thead>\n",
              "  <tbody>\n",
              "    <tr>\n",
              "      <th>0</th>\n",
              "      <td>BG_Box_AleksandarPovetkin_vs_AnthonyDjoshua_NO</td>\n",
              "      <td>NO</td>\n",
              "      <td>Аз съм в много добра форма, проведох отличен т...</td>\n",
              "    </tr>\n",
              "    <tr>\n",
              "      <th>1</th>\n",
              "      <td>BG_Box_AndiRuiz_vs_AnthonyDjoshua_YES</td>\n",
              "      <td>YES</td>\n",
              "      <td>Всички ме подценяват, но това ще бъде страшна ...</td>\n",
              "    </tr>\n",
              "    <tr>\n",
              "      <th>2</th>\n",
              "      <td>BG_Box_AnthonyDjoshua_vs_AleksandarPovetkin_YES</td>\n",
              "      <td>YES</td>\n",
              "      <td>Ако оставим настрана техниката и качествата, и...</td>\n",
              "    </tr>\n",
              "    <tr>\n",
              "      <th>3</th>\n",
              "      <td>BG_Box_AnthonyDjoshua_vs_AndiRuiz_NO</td>\n",
              "      <td>NO</td>\n",
              "      <td>Приемам мача с Анди напълно сериозно, изобщо н...</td>\n",
              "    </tr>\n",
              "    <tr>\n",
              "      <th>4</th>\n",
              "      <td>BG_Box_AntonyDjoshua_vs_VladimirKlichko_YES</td>\n",
              "      <td>YES</td>\n",
              "      <td>Бях изтласкан на места, където никога не съм б...</td>\n",
              "    </tr>\n",
              "  </tbody>\n",
              "</table>\n",
              "</div>"
            ],
            "text/plain": [
              "                                         file_name  ...                                               text\n",
              "0   BG_Box_AleksandarPovetkin_vs_AnthonyDjoshua_NO  ...  Аз съм в много добра форма, проведох отличен т...\n",
              "1            BG_Box_AndiRuiz_vs_AnthonyDjoshua_YES  ...  Всички ме подценяват, но това ще бъде страшна ...\n",
              "2  BG_Box_AnthonyDjoshua_vs_AleksandarPovetkin_YES  ...  Ако оставим настрана техниката и качествата, и...\n",
              "3             BG_Box_AnthonyDjoshua_vs_AndiRuiz_NO  ...  Приемам мача с Анди напълно сериозно, изобщо н...\n",
              "4      BG_Box_AntonyDjoshua_vs_VladimirKlichko_YES  ...  Бях изтласкан на места, където никога не съм б...\n",
              "\n",
              "[5 rows x 3 columns]"
            ]
          },
          "metadata": {
            "tags": []
          },
          "execution_count": 5
        }
      ]
    },
    {
      "cell_type": "code",
      "metadata": {
        "id": "P6wlSR8NIKHS",
        "colab_type": "code",
        "outputId": "179bd16c-f08f-4863-9835-020d6f68f1e7",
        "colab": {
          "base_uri": "https://localhost:8080/",
          "height": 204
        }
      },
      "source": [
        "df.drop('file_name', axis=1, inplace=True)\n",
        "\n",
        "le = LabelEncoder()\n",
        "df['label'] = le.fit_transform(df['label'])\n",
        "\n",
        "df.head()"
      ],
      "execution_count": 6,
      "outputs": [
        {
          "output_type": "execute_result",
          "data": {
            "text/html": [
              "<div>\n",
              "<style scoped>\n",
              "    .dataframe tbody tr th:only-of-type {\n",
              "        vertical-align: middle;\n",
              "    }\n",
              "\n",
              "    .dataframe tbody tr th {\n",
              "        vertical-align: top;\n",
              "    }\n",
              "\n",
              "    .dataframe thead th {\n",
              "        text-align: right;\n",
              "    }\n",
              "</style>\n",
              "<table border=\"1\" class=\"dataframe\">\n",
              "  <thead>\n",
              "    <tr style=\"text-align: right;\">\n",
              "      <th></th>\n",
              "      <th>label</th>\n",
              "      <th>text</th>\n",
              "    </tr>\n",
              "  </thead>\n",
              "  <tbody>\n",
              "    <tr>\n",
              "      <th>0</th>\n",
              "      <td>0</td>\n",
              "      <td>Аз съм в много добра форма, проведох отличен т...</td>\n",
              "    </tr>\n",
              "    <tr>\n",
              "      <th>1</th>\n",
              "      <td>1</td>\n",
              "      <td>Всички ме подценяват, но това ще бъде страшна ...</td>\n",
              "    </tr>\n",
              "    <tr>\n",
              "      <th>2</th>\n",
              "      <td>1</td>\n",
              "      <td>Ако оставим настрана техниката и качествата, и...</td>\n",
              "    </tr>\n",
              "    <tr>\n",
              "      <th>3</th>\n",
              "      <td>0</td>\n",
              "      <td>Приемам мача с Анди напълно сериозно, изобщо н...</td>\n",
              "    </tr>\n",
              "    <tr>\n",
              "      <th>4</th>\n",
              "      <td>1</td>\n",
              "      <td>Бях изтласкан на места, където никога не съм б...</td>\n",
              "    </tr>\n",
              "  </tbody>\n",
              "</table>\n",
              "</div>"
            ],
            "text/plain": [
              "   label                                               text\n",
              "0      0  Аз съм в много добра форма, проведох отличен т...\n",
              "1      1  Всички ме подценяват, но това ще бъде страшна ...\n",
              "2      1  Ако оставим настрана техниката и качествата, и...\n",
              "3      0  Приемам мача с Анди напълно сериозно, изобщо н...\n",
              "4      1  Бях изтласкан на места, където никога не съм б..."
            ]
          },
          "metadata": {
            "tags": []
          },
          "execution_count": 6
        }
      ]
    },
    {
      "cell_type": "code",
      "metadata": {
        "id": "WYq0DgMM9V6s",
        "colab_type": "code",
        "colab": {}
      },
      "source": [
        "def gen_train_and_test(df, test_size=0.20, random_state=42):\n",
        "    X = df.loc[:, df.columns != 'label']\n",
        "    y = df.label\n",
        "    \n",
        "    X_train, X_test, y_train, y_test = train_test_split(X, y, test_size=test_size, random_state=random_state)\n",
        "    \n",
        "    train = X_train.join(y_train)\n",
        "    test = X_test.join(y_test)\n",
        "    \n",
        "    return train, test"
      ],
      "execution_count": 0,
      "outputs": []
    },
    {
      "cell_type": "code",
      "metadata": {
        "id": "7Hyj7rfVFIlB",
        "colab_type": "code",
        "colab": {}
      },
      "source": [
        "train, test = gen_train_and_test(df)"
      ],
      "execution_count": 0,
      "outputs": []
    },
    {
      "cell_type": "code",
      "metadata": {
        "id": "9nJGNGAAFL4H",
        "colab_type": "code",
        "outputId": "9dd6f8ff-e61b-495f-d49b-aa8abe828957",
        "colab": {
          "base_uri": "https://localhost:8080/",
          "height": 204
        }
      },
      "source": [
        "train.head()"
      ],
      "execution_count": 9,
      "outputs": [
        {
          "output_type": "execute_result",
          "data": {
            "text/html": [
              "<div>\n",
              "<style scoped>\n",
              "    .dataframe tbody tr th:only-of-type {\n",
              "        vertical-align: middle;\n",
              "    }\n",
              "\n",
              "    .dataframe tbody tr th {\n",
              "        vertical-align: top;\n",
              "    }\n",
              "\n",
              "    .dataframe thead th {\n",
              "        text-align: right;\n",
              "    }\n",
              "</style>\n",
              "<table border=\"1\" class=\"dataframe\">\n",
              "  <thead>\n",
              "    <tr style=\"text-align: right;\">\n",
              "      <th></th>\n",
              "      <th>text</th>\n",
              "      <th>label</th>\n",
              "    </tr>\n",
              "  </thead>\n",
              "  <tbody>\n",
              "    <tr>\n",
              "      <th>12</th>\n",
              "      <td>Важно е да си концентриран и целенасочен в тов...</td>\n",
              "      <td>1</td>\n",
              "    </tr>\n",
              "    <tr>\n",
              "      <th>4</th>\n",
              "      <td>Бях изтласкан на места, където никога не съм б...</td>\n",
              "      <td>1</td>\n",
              "    </tr>\n",
              "    <tr>\n",
              "      <th>37</th>\n",
              "      <td>Сега оценявам и се радвам на всяка една победа...</td>\n",
              "      <td>0</td>\n",
              "    </tr>\n",
              "    <tr>\n",
              "      <th>8</th>\n",
              "      <td>С нетърпение очаквам битката с Кубрат Пулев.\\r...</td>\n",
              "      <td>0</td>\n",
              "    </tr>\n",
              "    <tr>\n",
              "      <th>3</th>\n",
              "      <td>Приемам мача с Анди напълно сериозно, изобщо н...</td>\n",
              "      <td>0</td>\n",
              "    </tr>\n",
              "  </tbody>\n",
              "</table>\n",
              "</div>"
            ],
            "text/plain": [
              "                                                 text  label\n",
              "12  Важно е да си концентриран и целенасочен в тов...      1\n",
              "4   Бях изтласкан на места, където никога не съм б...      1\n",
              "37  Сега оценявам и се радвам на всяка една победа...      0\n",
              "8   С нетърпение очаквам битката с Кубрат Пулев.\\r...      0\n",
              "3   Приемам мача с Анди напълно сериозно, изобщо н...      0"
            ]
          },
          "metadata": {
            "tags": []
          },
          "execution_count": 9
        }
      ]
    },
    {
      "cell_type": "code",
      "metadata": {
        "id": "SYm6NlVoFNvG",
        "colab_type": "code",
        "outputId": "012ea897-7ef0-4aed-9ab7-165c67847131",
        "colab": {
          "base_uri": "https://localhost:8080/",
          "height": 204
        }
      },
      "source": [
        "test.head()"
      ],
      "execution_count": 10,
      "outputs": [
        {
          "output_type": "execute_result",
          "data": {
            "text/html": [
              "<div>\n",
              "<style scoped>\n",
              "    .dataframe tbody tr th:only-of-type {\n",
              "        vertical-align: middle;\n",
              "    }\n",
              "\n",
              "    .dataframe tbody tr th {\n",
              "        vertical-align: top;\n",
              "    }\n",
              "\n",
              "    .dataframe thead th {\n",
              "        text-align: right;\n",
              "    }\n",
              "</style>\n",
              "<table border=\"1\" class=\"dataframe\">\n",
              "  <thead>\n",
              "    <tr style=\"text-align: right;\">\n",
              "      <th></th>\n",
              "      <th>text</th>\n",
              "      <th>label</th>\n",
              "    </tr>\n",
              "  </thead>\n",
              "  <tbody>\n",
              "    <tr>\n",
              "      <th>13</th>\n",
              "      <td>Статутът ми на фаворит не ми влияе, почти няма...</td>\n",
              "      <td>1</td>\n",
              "    </tr>\n",
              "    <tr>\n",
              "      <th>39</th>\n",
              "      <td>Във всеки един мач трябва да си подготвен.\\r\\n...</td>\n",
              "      <td>1</td>\n",
              "    </tr>\n",
              "    <tr>\n",
              "      <th>30</th>\n",
              "      <td>В Монте Карло изиграх добър мач срещу Димитров...</td>\n",
              "      <td>1</td>\n",
              "    </tr>\n",
              "    <tr>\n",
              "      <th>45</th>\n",
              "      <td>Той няма как да не вкара всяка топка в корта в...</td>\n",
              "      <td>0</td>\n",
              "    </tr>\n",
              "    <tr>\n",
              "      <th>17</th>\n",
              "      <td>Познавам го, голям и здрав е, бил се е с добри...</td>\n",
              "      <td>1</td>\n",
              "    </tr>\n",
              "  </tbody>\n",
              "</table>\n",
              "</div>"
            ],
            "text/plain": [
              "                                                 text  label\n",
              "13  Статутът ми на фаворит не ми влияе, почти няма...      1\n",
              "39  Във всеки един мач трябва да си подготвен.\\r\\n...      1\n",
              "30  В Монте Карло изиграх добър мач срещу Димитров...      1\n",
              "45  Той няма как да не вкара всяка топка в корта в...      0\n",
              "17  Познавам го, голям и здрав е, бил се е с добри...      1"
            ]
          },
          "metadata": {
            "tags": []
          },
          "execution_count": 10
        }
      ]
    },
    {
      "cell_type": "code",
      "metadata": {
        "id": "qCoK42AGIXsS",
        "colab_type": "code",
        "colab": {}
      },
      "source": [
        "myparam = {\n",
        "    \"DATA_COLUMN\": \"text\",\n",
        "    \"LABEL_COLUMN\": \"label\",\n",
        "    \"LEARNING_RATE\": 2e-5,\n",
        "    \"NUM_TRAIN_EPOCHS\": 100\n",
        "}"
      ],
      "execution_count": 0,
      "outputs": []
    },
    {
      "cell_type": "code",
      "metadata": {
        "id": "SUwqGJuIfgap",
        "colab_type": "code",
        "colab": {}
      },
      "source": [
        "import tensorflow as tf\n",
        "tf.logging.set_verbosity(tf.logging.INFO)"
      ],
      "execution_count": 0,
      "outputs": []
    },
    {
      "cell_type": "code",
      "metadata": {
        "id": "YoOVNBr7IsjS",
        "colab_type": "code",
        "outputId": "3b7eaa30-4a9a-4d2a-dd7b-4ee958938c54",
        "colab": {
          "base_uri": "https://localhost:8080/",
          "height": 1000
        }
      },
      "source": [
        "result, estimator = run_on_dfs(train, test, **myparam)"
      ],
      "execution_count": 13,
      "outputs": [
        {
          "output_type": "stream",
          "text": [
            "I0723 18:58:27.382977 140408848086912 saver.py:1499] Saver not created because there are no variables in the graph to restore\n",
            "W0723 18:58:27.509716 140408848086912 deprecation_wrapper.py:119] From /usr/local/lib/python3.6/dist-packages/bert_text/bert_text.py:19: The name tf.Session is deprecated. Please use tf.compat.v1.Session instead.\n",
            "\n",
            "W0723 18:58:28.529657 140408848086912 deprecation_wrapper.py:119] From /usr/local/lib/python3.6/dist-packages/bert/tokenization.py:125: The name tf.gfile.GFile is deprecated. Please use tf.io.gfile.GFile instead.\n",
            "\n",
            "W0723 18:58:28.654220 140408848086912 deprecation_wrapper.py:119] From /usr/local/lib/python3.6/dist-packages/bert/run_classifier.py:774: The name tf.logging.info is deprecated. Please use tf.compat.v1.logging.info instead.\n",
            "\n",
            "I0723 18:58:28.655172 140408848086912 run_classifier.py:774] Writing example 0 of 40\n",
            "I0723 18:58:28.663174 140408848086912 run_classifier.py:461] *** Example ***\n",
            "I0723 18:58:28.664009 140408848086912 run_classifier.py:462] guid: None\n",
            "I0723 18:58:28.665978 140408848086912 run_classifier.py:464] tokens: [CLS] в ##а ##ж ##н ##о е д ##а с ##и к ##о ##н ##ц ##е ##н ##т ##р ##и ##р ##ан и ц ##е ##л ##е ##на ##с ##о ##ч ##е ##н в т ##ов ##а , к ##о ##е ##т ##о п ##р ##а ##в ##и ##ш . к ##о ##г ##а ##т ##о и ##з ##л ##е ##з ##е ##ш н ##а р ##и ##н ##г ##а т ##р ##я ##б ##в ##а д ##а с ##и б ##а ##л ##ан ##с ##и ##р ##ан . х ##ю ##и ф ##ю ##р ##и е с ##е ##р ##и ##о ##з ##е ##н п ##р ##о ##т ##и ##в ##н ##и ##к . т ##о ##и с ##е е п ##р ##и ##г ##о ##т [SEP]\n",
            "I0723 18:58:28.667846 140408848086912 run_classifier.py:465] input_ids: 101 1182 10260 29743 18947 14150 1185 1184 10260 1196 10325 1189 14150 18947 29751 15290 18947 22919 16856 10325 16856 28995 1188 1201 15290 29436 15290 19865 29747 14150 29752 15290 18947 1182 1197 19259 10260 1010 1189 14150 15290 22919 14150 1194 16856 10260 25529 10325 29753 1012 1189 14150 29741 10260 22919 14150 1188 29744 29436 15290 29744 15290 29753 1192 10260 1195 10325 18947 29741 10260 1197 16856 17432 29740 25529 10260 1184 10260 1196 10325 1181 10260 29436 28995 29747 10325 16856 28995 1012 1200 29757 10325 1199 29757 16856 10325 1185 1196 15290 16856 10325 14150 29744 15290 18947 1194 16856 14150 22919 10325 25529 18947 10325 23925 1012 1197 14150 10325 1196 15290 1185 1194 16856 10325 29741 14150 22919 102\n",
            "I0723 18:58:28.668911 140408848086912 run_classifier.py:466] input_mask: 1 1 1 1 1 1 1 1 1 1 1 1 1 1 1 1 1 1 1 1 1 1 1 1 1 1 1 1 1 1 1 1 1 1 1 1 1 1 1 1 1 1 1 1 1 1 1 1 1 1 1 1 1 1 1 1 1 1 1 1 1 1 1 1 1 1 1 1 1 1 1 1 1 1 1 1 1 1 1 1 1 1 1 1 1 1 1 1 1 1 1 1 1 1 1 1 1 1 1 1 1 1 1 1 1 1 1 1 1 1 1 1 1 1 1 1 1 1 1 1 1 1 1 1 1 1 1 1\n",
            "I0723 18:58:28.670495 140408848086912 run_classifier.py:467] segment_ids: 0 0 0 0 0 0 0 0 0 0 0 0 0 0 0 0 0 0 0 0 0 0 0 0 0 0 0 0 0 0 0 0 0 0 0 0 0 0 0 0 0 0 0 0 0 0 0 0 0 0 0 0 0 0 0 0 0 0 0 0 0 0 0 0 0 0 0 0 0 0 0 0 0 0 0 0 0 0 0 0 0 0 0 0 0 0 0 0 0 0 0 0 0 0 0 0 0 0 0 0 0 0 0 0 0 0 0 0 0 0 0 0 0 0 0 0 0 0 0 0 0 0 0 0 0 0 0 0\n",
            "I0723 18:58:28.671925 140408848086912 run_classifier.py:468] label: 1 (id = 0)\n",
            "I0723 18:58:28.679609 140408848086912 run_classifier.py:461] *** Example ***\n",
            "I0723 18:58:28.680624 140408848086912 run_classifier.py:462] guid: None\n",
            "I0723 18:58:28.681906 140408848086912 run_classifier.py:464] tokens: [CLS] б ##я ##х и ##з ##т ##л ##а ##с ##ка ##н н ##а м ##е ##с ##т ##а , к ##ъ ##д ##е ##т ##о н ##и ##к ##о ##г ##а н ##е с ##ъ ##м б ##и ##л и ##з ##т ##л ##а ##с ##к ##в ##ан п ##р ##е ##д ##и т ##ов ##а . м ##и ##с ##л ##я , ч ##е и ##м ##а ##м п ##ов ##е ##ч ##е у ##м ##о ##р ##а в ##ъ ##в ф ##и ##т ##н ##е ##с ##а о ##т ##к ##о ##л ##к ##о ##т ##о п ##о в ##р ##е ##м ##е н ##а б ##и ##т ##к ##и ##т ##е . п ##о ##н ##я ##к ##о ##г ##а о ##п ##и [SEP]\n",
            "I0723 18:58:28.682810 140408848086912 run_classifier.py:465] input_ids: 101 1181 17432 29750 1188 29744 22919 29436 10260 29747 28598 18947 1192 10260 1191 15290 29747 22919 10260 1010 1189 29755 29742 15290 22919 14150 1192 10325 23925 14150 29741 10260 1192 15290 1196 29755 29745 1181 10325 29436 1188 29744 22919 29436 10260 29747 23925 25529 28995 1194 16856 15290 29742 10325 1197 19259 10260 1012 1191 10325 29747 29436 17432 1010 1202 15290 1188 29745 10260 29745 1194 19259 15290 29752 15290 1198 29745 14150 16856 10260 1182 29755 25529 1199 10325 22919 18947 15290 29747 10260 1193 22919 23925 14150 29436 23925 14150 22919 14150 1194 14150 1182 16856 15290 29745 15290 1192 10260 1181 10325 22919 23925 10325 22919 15290 1012 1194 14150 18947 17432 23925 14150 29741 10260 1193 29746 10325 102\n",
            "I0723 18:58:28.683616 140408848086912 run_classifier.py:466] input_mask: 1 1 1 1 1 1 1 1 1 1 1 1 1 1 1 1 1 1 1 1 1 1 1 1 1 1 1 1 1 1 1 1 1 1 1 1 1 1 1 1 1 1 1 1 1 1 1 1 1 1 1 1 1 1 1 1 1 1 1 1 1 1 1 1 1 1 1 1 1 1 1 1 1 1 1 1 1 1 1 1 1 1 1 1 1 1 1 1 1 1 1 1 1 1 1 1 1 1 1 1 1 1 1 1 1 1 1 1 1 1 1 1 1 1 1 1 1 1 1 1 1 1 1 1 1 1 1 1\n",
            "I0723 18:58:28.684669 140408848086912 run_classifier.py:467] segment_ids: 0 0 0 0 0 0 0 0 0 0 0 0 0 0 0 0 0 0 0 0 0 0 0 0 0 0 0 0 0 0 0 0 0 0 0 0 0 0 0 0 0 0 0 0 0 0 0 0 0 0 0 0 0 0 0 0 0 0 0 0 0 0 0 0 0 0 0 0 0 0 0 0 0 0 0 0 0 0 0 0 0 0 0 0 0 0 0 0 0 0 0 0 0 0 0 0 0 0 0 0 0 0 0 0 0 0 0 0 0 0 0 0 0 0 0 0 0 0 0 0 0 0 0 0 0 0 0 0\n",
            "I0723 18:58:28.685506 140408848086912 run_classifier.py:468] label: 1 (id = 0)\n",
            "I0723 18:58:28.693882 140408848086912 run_classifier.py:461] *** Example ***\n",
            "I0723 18:58:28.694905 140408848086912 run_classifier.py:462] guid: None\n",
            "I0723 18:58:28.696040 140408848086912 run_classifier.py:464] tokens: [CLS] с ##е ##г ##а о ##ц ##е ##н ##я ##в ##а ##м и с ##е р ##а ##д ##в ##а ##м н ##а в ##с ##я ##ка е ##д ##на п ##о ##б ##е ##д ##а , к ##о ##я ##т ##о п ##о ##с ##т ##и ##г ##на . н ##а ##и ##с ##т ##и ##на н ##е м ##е и ##н ##т ##е ##р ##е ##с ##у ##в ##а с ##р ##е ##щ ##у к ##о ##г ##о с ##е и ##з ##п ##р ##а ##в ##я ##м , п ##р ##о ##с ##т ##о и ##с ##ка ##м д ##а п ##о ##б ##е ##ж ##д ##а ##в ##а ##м . в ##с ##е п ##а ##к с ##ъ ##м и ##г ##р [SEP]\n",
            "I0723 18:58:28.696882 140408848086912 run_classifier.py:465] input_ids: 101 1196 15290 29741 10260 1193 29751 15290 18947 17432 25529 10260 29745 1188 1196 15290 1195 10260 29742 25529 10260 29745 1192 10260 1182 29747 17432 28598 1185 29742 19865 1194 14150 29740 15290 29742 10260 1010 1189 14150 17432 22919 14150 1194 14150 29747 22919 10325 29741 19865 1012 1192 10260 10325 29747 22919 10325 19865 1192 15290 1191 15290 1188 18947 22919 15290 16856 15290 29747 29748 25529 10260 1196 16856 15290 29754 29748 1189 14150 29741 14150 1196 15290 1188 29744 29746 16856 10260 25529 17432 29745 1010 1194 16856 14150 29747 22919 14150 1188 29747 28598 29745 1184 10260 1194 14150 29740 15290 29743 29742 10260 25529 10260 29745 1012 1182 29747 15290 1194 10260 23925 1196 29755 29745 1188 29741 16856 102\n",
            "I0723 18:58:28.697974 140408848086912 run_classifier.py:466] input_mask: 1 1 1 1 1 1 1 1 1 1 1 1 1 1 1 1 1 1 1 1 1 1 1 1 1 1 1 1 1 1 1 1 1 1 1 1 1 1 1 1 1 1 1 1 1 1 1 1 1 1 1 1 1 1 1 1 1 1 1 1 1 1 1 1 1 1 1 1 1 1 1 1 1 1 1 1 1 1 1 1 1 1 1 1 1 1 1 1 1 1 1 1 1 1 1 1 1 1 1 1 1 1 1 1 1 1 1 1 1 1 1 1 1 1 1 1 1 1 1 1 1 1 1 1 1 1 1 1\n",
            "I0723 18:58:28.698890 140408848086912 run_classifier.py:467] segment_ids: 0 0 0 0 0 0 0 0 0 0 0 0 0 0 0 0 0 0 0 0 0 0 0 0 0 0 0 0 0 0 0 0 0 0 0 0 0 0 0 0 0 0 0 0 0 0 0 0 0 0 0 0 0 0 0 0 0 0 0 0 0 0 0 0 0 0 0 0 0 0 0 0 0 0 0 0 0 0 0 0 0 0 0 0 0 0 0 0 0 0 0 0 0 0 0 0 0 0 0 0 0 0 0 0 0 0 0 0 0 0 0 0 0 0 0 0 0 0 0 0 0 0 0 0 0 0 0 0\n",
            "I0723 18:58:28.699702 140408848086912 run_classifier.py:468] label: 0 (id = 1)\n",
            "I0723 18:58:28.715154 140408848086912 run_classifier.py:461] *** Example ***\n",
            "I0723 18:58:28.716211 140408848086912 run_classifier.py:462] guid: None\n",
            "I0723 18:58:28.717132 140408848086912 run_classifier.py:464] tokens: [CLS] с н ##е ##т ##ъ ##р ##п ##е ##н ##и ##е о ##ч ##а ##к ##в ##а ##м б ##и ##т ##ка ##т ##а с к ##у ##б ##р ##а ##т п ##у ##л ##е ##в . п ##р ##е ##д ##с ##т ##о ##и м ##и е ##д ##на с ##п ##о ##к ##о ##и ##на с ##е ##д ##м ##и ##ц ##а , п ##р ##е ##з к ##о ##я ##т ##о щ ##е с ##е п ##о ##д ##г ##о ##т ##в ##я з ##а б ##о ##я . щ ##е п ##о ##с ##е ##т ##и ##м и п ##л ##ов ##д ##и ##в . и ##д ##в ##а ##л ##и с ##м ##е в б ##ъ ##л ##г ##а ##р ##ия [SEP]\n",
            "I0723 18:58:28.719438 140408848086912 run_classifier.py:465] input_ids: 101 1196 1192 15290 22919 29755 16856 29746 15290 18947 10325 15290 1193 29752 10260 23925 25529 10260 29745 1181 10325 22919 28598 22919 10260 1196 1189 29748 29740 16856 10260 22919 1194 29748 29436 15290 25529 1012 1194 16856 15290 29742 29747 22919 14150 10325 1191 10325 1185 29742 19865 1196 29746 14150 23925 14150 10325 19865 1196 15290 29742 29745 10325 29751 10260 1010 1194 16856 15290 29744 1189 14150 17432 22919 14150 1204 15290 1196 15290 1194 14150 29742 29741 14150 22919 25529 17432 1187 10260 1181 14150 17432 1012 1204 15290 1194 14150 29747 15290 22919 10325 29745 1188 1194 29436 19259 29742 10325 25529 1012 1188 29742 25529 10260 29436 10325 1196 29745 15290 1182 1181 29755 29436 29741 10260 16856 23483 102\n",
            "I0723 18:58:28.721236 140408848086912 run_classifier.py:466] input_mask: 1 1 1 1 1 1 1 1 1 1 1 1 1 1 1 1 1 1 1 1 1 1 1 1 1 1 1 1 1 1 1 1 1 1 1 1 1 1 1 1 1 1 1 1 1 1 1 1 1 1 1 1 1 1 1 1 1 1 1 1 1 1 1 1 1 1 1 1 1 1 1 1 1 1 1 1 1 1 1 1 1 1 1 1 1 1 1 1 1 1 1 1 1 1 1 1 1 1 1 1 1 1 1 1 1 1 1 1 1 1 1 1 1 1 1 1 1 1 1 1 1 1 1 1 1 1 1 1\n",
            "I0723 18:58:28.722244 140408848086912 run_classifier.py:467] segment_ids: 0 0 0 0 0 0 0 0 0 0 0 0 0 0 0 0 0 0 0 0 0 0 0 0 0 0 0 0 0 0 0 0 0 0 0 0 0 0 0 0 0 0 0 0 0 0 0 0 0 0 0 0 0 0 0 0 0 0 0 0 0 0 0 0 0 0 0 0 0 0 0 0 0 0 0 0 0 0 0 0 0 0 0 0 0 0 0 0 0 0 0 0 0 0 0 0 0 0 0 0 0 0 0 0 0 0 0 0 0 0 0 0 0 0 0 0 0 0 0 0 0 0 0 0 0 0 0 0\n",
            "I0723 18:58:28.724544 140408848086912 run_classifier.py:468] label: 0 (id = 1)\n",
            "I0723 18:58:28.727654 140408848086912 run_classifier.py:461] *** Example ***\n",
            "I0723 18:58:28.729712 140408848086912 run_classifier.py:462] guid: None\n",
            "I0723 18:58:28.732312 140408848086912 run_classifier.py:464] tokens: [CLS] п ##р ##и ##е ##м ##а ##м м ##а ##ч ##а с а ##н ##д ##и н ##а ##п ##ъ ##л ##н ##о с ##е ##р ##и ##о ##з ##н ##о , и ##з ##о ##б ##щ ##о н ##е г ##о п ##о ##д ##ц ##е ##н ##я ##в ##а ##м . у ##в ##а ##ж ##а ##в ##а ##м н ##е ##г ##о и е ##к ##и ##п ##а м ##у и т ##ов ##а , ч ##е п ##р ##и ##е т ##о ##з ##и с ##б ##л ##ъ ##с ##ъ ##к , к ##о ##г ##а ##т ##о н ##я ##м ##а ##ш ##е к ##о ##и д ##р ##у ##г . н ##е ##з ##а ##в ##и ##с ##и ##м ##о [SEP]\n",
            "I0723 18:58:28.734352 140408848086912 run_classifier.py:465] input_ids: 101 1194 16856 10325 15290 29745 10260 29745 1191 10260 29752 10260 1196 1180 18947 29742 10325 1192 10260 29746 29755 29436 18947 14150 1196 15290 16856 10325 14150 29744 18947 14150 1010 1188 29744 14150 29740 29754 14150 1192 15290 1183 14150 1194 14150 29742 29751 15290 18947 17432 25529 10260 29745 1012 1198 25529 10260 29743 10260 25529 10260 29745 1192 15290 29741 14150 1188 1185 23925 10325 29746 10260 1191 29748 1188 1197 19259 10260 1010 1202 15290 1194 16856 10325 15290 1197 14150 29744 10325 1196 29740 29436 29755 29747 29755 23925 1010 1189 14150 29741 10260 22919 14150 1192 17432 29745 10260 29753 15290 1189 14150 10325 1184 16856 29748 29741 1012 1192 15290 29744 10260 25529 10325 29747 10325 29745 14150 102\n",
            "I0723 18:58:28.735403 140408848086912 run_classifier.py:466] input_mask: 1 1 1 1 1 1 1 1 1 1 1 1 1 1 1 1 1 1 1 1 1 1 1 1 1 1 1 1 1 1 1 1 1 1 1 1 1 1 1 1 1 1 1 1 1 1 1 1 1 1 1 1 1 1 1 1 1 1 1 1 1 1 1 1 1 1 1 1 1 1 1 1 1 1 1 1 1 1 1 1 1 1 1 1 1 1 1 1 1 1 1 1 1 1 1 1 1 1 1 1 1 1 1 1 1 1 1 1 1 1 1 1 1 1 1 1 1 1 1 1 1 1 1 1 1 1 1 1\n",
            "I0723 18:58:28.737357 140408848086912 run_classifier.py:467] segment_ids: 0 0 0 0 0 0 0 0 0 0 0 0 0 0 0 0 0 0 0 0 0 0 0 0 0 0 0 0 0 0 0 0 0 0 0 0 0 0 0 0 0 0 0 0 0 0 0 0 0 0 0 0 0 0 0 0 0 0 0 0 0 0 0 0 0 0 0 0 0 0 0 0 0 0 0 0 0 0 0 0 0 0 0 0 0 0 0 0 0 0 0 0 0 0 0 0 0 0 0 0 0 0 0 0 0 0 0 0 0 0 0 0 0 0 0 0 0 0 0 0 0 0 0 0 0 0 0 0\n",
            "I0723 18:58:28.738263 140408848086912 run_classifier.py:468] label: 0 (id = 1)\n",
            "I0723 18:58:28.914130 140408848086912 run_classifier.py:774] Writing example 0 of 10\n",
            "I0723 18:58:28.917451 140408848086912 run_classifier.py:461] *** Example ***\n",
            "I0723 18:58:28.918528 140408848086912 run_classifier.py:462] guid: None\n",
            "I0723 18:58:28.919308 140408848086912 run_classifier.py:464] tokens: [CLS] с ##т ##а ##т ##у ##т ##ъ ##т м ##и н ##а ф ##а ##в ##о ##р ##и ##т н ##е м ##и в ##л ##ия ##е , п ##о ##ч ##т ##и н ##я ##м ##а н ##а ##п ##р ##е ##ж ##е ##н ##и ##е у м ##е ##н . н ##о б ##о ##к ##с ##ъ ##т е с ##п ##о ##р ##т , в к ##о ##и ##т ##о в ##и ##на ##г ##и м ##о ##ж ##е д ##а и ##м ##а и ##з ##н ##е ##на ##д ##а . з ##а ##т ##ов ##а с т ##р ##е ##н ##ь ##о ##р ##а м ##и г ##ов ##о ##р ##и ##х ##м ##е , ч ##е в п ##ъ ##р [SEP]\n",
            "I0723 18:58:28.920446 140408848086912 run_classifier.py:465] input_ids: 101 1196 22919 10260 22919 29748 22919 29755 22919 1191 10325 1192 10260 1199 10260 25529 14150 16856 10325 22919 1192 15290 1191 10325 1182 29436 23483 15290 1010 1194 14150 29752 22919 10325 1192 17432 29745 10260 1192 10260 29746 16856 15290 29743 15290 18947 10325 15290 1198 1191 15290 18947 1012 1192 14150 1181 14150 23925 29747 29755 22919 1185 1196 29746 14150 16856 22919 1010 1182 1189 14150 10325 22919 14150 1182 10325 19865 29741 10325 1191 14150 29743 15290 1184 10260 1188 29745 10260 1188 29744 18947 15290 19865 29742 10260 1012 1187 10260 22919 19259 10260 1196 1197 16856 15290 18947 23742 14150 16856 10260 1191 10325 1183 19259 14150 16856 10325 29750 29745 15290 1010 1202 15290 1182 1194 29755 16856 102\n",
            "I0723 18:58:28.921300 140408848086912 run_classifier.py:466] input_mask: 1 1 1 1 1 1 1 1 1 1 1 1 1 1 1 1 1 1 1 1 1 1 1 1 1 1 1 1 1 1 1 1 1 1 1 1 1 1 1 1 1 1 1 1 1 1 1 1 1 1 1 1 1 1 1 1 1 1 1 1 1 1 1 1 1 1 1 1 1 1 1 1 1 1 1 1 1 1 1 1 1 1 1 1 1 1 1 1 1 1 1 1 1 1 1 1 1 1 1 1 1 1 1 1 1 1 1 1 1 1 1 1 1 1 1 1 1 1 1 1 1 1 1 1 1 1 1 1\n",
            "I0723 18:58:28.922593 140408848086912 run_classifier.py:467] segment_ids: 0 0 0 0 0 0 0 0 0 0 0 0 0 0 0 0 0 0 0 0 0 0 0 0 0 0 0 0 0 0 0 0 0 0 0 0 0 0 0 0 0 0 0 0 0 0 0 0 0 0 0 0 0 0 0 0 0 0 0 0 0 0 0 0 0 0 0 0 0 0 0 0 0 0 0 0 0 0 0 0 0 0 0 0 0 0 0 0 0 0 0 0 0 0 0 0 0 0 0 0 0 0 0 0 0 0 0 0 0 0 0 0 0 0 0 0 0 0 0 0 0 0 0 0 0 0 0 0\n",
            "I0723 18:58:28.924283 140408848086912 run_classifier.py:468] label: 1 (id = 0)\n",
            "I0723 18:58:28.931488 140408848086912 run_classifier.py:461] *** Example ***\n",
            "I0723 18:58:28.932632 140408848086912 run_classifier.py:462] guid: None\n",
            "I0723 18:58:28.933687 140408848086912 run_classifier.py:464] tokens: [CLS] в ##ъ ##в в ##с ##е ##к ##и е ##д ##и ##н м ##а ##ч т ##р ##я ##б ##в ##а д ##а с ##и п ##о ##д ##г ##о ##т ##в ##е ##н . в ##с ##е ##к ##и е ##д ##и ##н м ##а ##ч е р ##а ##з ##л ##и ##ч ##е ##н о ##т д ##р ##у ##г ##ия , т ##а ##ка ч ##е т ##р ##я ##б ##в ##а д ##а с ##е ф ##о ##к ##у ##с ##и ##р ##а ##м в ##ъ ##р ##х ##у и ##г ##р ##а ##т ##а с ##и и д ##а п ##о ##д ##о ##б ##р ##я н ##я ##к ##о ##и о ##т н ##е ##щ ##а ##т ##а , к [SEP]\n",
            "I0723 18:58:28.935053 140408848086912 run_classifier.py:465] input_ids: 101 1182 29755 25529 1182 29747 15290 23925 10325 1185 29742 10325 18947 1191 10260 29752 1197 16856 17432 29740 25529 10260 1184 10260 1196 10325 1194 14150 29742 29741 14150 22919 25529 15290 18947 1012 1182 29747 15290 23925 10325 1185 29742 10325 18947 1191 10260 29752 1185 1195 10260 29744 29436 10325 29752 15290 18947 1193 22919 1184 16856 29748 29741 23483 1010 1197 10260 28598 1202 15290 1197 16856 17432 29740 25529 10260 1184 10260 1196 15290 1199 14150 23925 29748 29747 10325 16856 10260 29745 1182 29755 16856 29750 29748 1188 29741 16856 10260 22919 10260 1196 10325 1188 1184 10260 1194 14150 29742 14150 29740 16856 17432 1192 17432 23925 14150 10325 1193 22919 1192 15290 29754 10260 22919 10260 1010 1189 102\n",
            "I0723 18:58:28.936059 140408848086912 run_classifier.py:466] input_mask: 1 1 1 1 1 1 1 1 1 1 1 1 1 1 1 1 1 1 1 1 1 1 1 1 1 1 1 1 1 1 1 1 1 1 1 1 1 1 1 1 1 1 1 1 1 1 1 1 1 1 1 1 1 1 1 1 1 1 1 1 1 1 1 1 1 1 1 1 1 1 1 1 1 1 1 1 1 1 1 1 1 1 1 1 1 1 1 1 1 1 1 1 1 1 1 1 1 1 1 1 1 1 1 1 1 1 1 1 1 1 1 1 1 1 1 1 1 1 1 1 1 1 1 1 1 1 1 1\n",
            "I0723 18:58:28.937876 140408848086912 run_classifier.py:467] segment_ids: 0 0 0 0 0 0 0 0 0 0 0 0 0 0 0 0 0 0 0 0 0 0 0 0 0 0 0 0 0 0 0 0 0 0 0 0 0 0 0 0 0 0 0 0 0 0 0 0 0 0 0 0 0 0 0 0 0 0 0 0 0 0 0 0 0 0 0 0 0 0 0 0 0 0 0 0 0 0 0 0 0 0 0 0 0 0 0 0 0 0 0 0 0 0 0 0 0 0 0 0 0 0 0 0 0 0 0 0 0 0 0 0 0 0 0 0 0 0 0 0 0 0 0 0 0 0 0 0\n",
            "I0723 18:58:28.939210 140408848086912 run_classifier.py:468] label: 1 (id = 0)\n",
            "I0723 18:58:28.946464 140408848086912 run_classifier.py:461] *** Example ***\n",
            "I0723 18:58:28.947219 140408848086912 run_classifier.py:462] guid: None\n",
            "I0723 18:58:28.948194 140408848086912 run_classifier.py:464] tokens: [CLS] в м ##о ##н ##т ##е к ##а ##р ##л ##о и ##з ##и ##г ##р ##а ##х д ##о ##б ##ъ ##р м ##а ##ч с ##р ##е ##щ ##у д ##и ##м ##и ##т ##р ##ов , а в м ##а ##д ##р ##и ##д б ##я ##х с ##ъ ##в ##с ##е ##м б ##л ##и ##з ##о д ##о п ##о ##б ##е ##д ##а ##т ##а . з ##на ##м к ##а ##к ##в ##о д ##а н ##а ##п ##р ##а ##в ##я , з ##а д ##а г ##о п ##о ##б ##е ##д ##я и м ##а ##ка ##р ч ##е м ##и ##на ##л ##а ##т ##а с ##е ##д ##м ##и ##ц ##а н ##е у [SEP]\n",
            "I0723 18:58:28.949186 140408848086912 run_classifier.py:465] input_ids: 101 1182 1191 14150 18947 22919 15290 1189 10260 16856 29436 14150 1188 29744 10325 29741 16856 10260 29750 1184 14150 29740 29755 16856 1191 10260 29752 1196 16856 15290 29754 29748 1184 10325 29745 10325 22919 16856 19259 1010 1180 1182 1191 10260 29742 16856 10325 29742 1181 17432 29750 1196 29755 25529 29747 15290 29745 1181 29436 10325 29744 14150 1184 14150 1194 14150 29740 15290 29742 10260 22919 10260 1012 1187 19865 29745 1189 10260 23925 25529 14150 1184 10260 1192 10260 29746 16856 10260 25529 17432 1010 1187 10260 1184 10260 1183 14150 1194 14150 29740 15290 29742 17432 1188 1191 10260 28598 16856 1202 15290 1191 10325 19865 29436 10260 22919 10260 1196 15290 29742 29745 10325 29751 10260 1192 15290 1198 102\n",
            "I0723 18:58:28.950212 140408848086912 run_classifier.py:466] input_mask: 1 1 1 1 1 1 1 1 1 1 1 1 1 1 1 1 1 1 1 1 1 1 1 1 1 1 1 1 1 1 1 1 1 1 1 1 1 1 1 1 1 1 1 1 1 1 1 1 1 1 1 1 1 1 1 1 1 1 1 1 1 1 1 1 1 1 1 1 1 1 1 1 1 1 1 1 1 1 1 1 1 1 1 1 1 1 1 1 1 1 1 1 1 1 1 1 1 1 1 1 1 1 1 1 1 1 1 1 1 1 1 1 1 1 1 1 1 1 1 1 1 1 1 1 1 1 1 1\n",
            "I0723 18:58:28.951852 140408848086912 run_classifier.py:467] segment_ids: 0 0 0 0 0 0 0 0 0 0 0 0 0 0 0 0 0 0 0 0 0 0 0 0 0 0 0 0 0 0 0 0 0 0 0 0 0 0 0 0 0 0 0 0 0 0 0 0 0 0 0 0 0 0 0 0 0 0 0 0 0 0 0 0 0 0 0 0 0 0 0 0 0 0 0 0 0 0 0 0 0 0 0 0 0 0 0 0 0 0 0 0 0 0 0 0 0 0 0 0 0 0 0 0 0 0 0 0 0 0 0 0 0 0 0 0 0 0 0 0 0 0 0 0 0 0 0 0\n",
            "I0723 18:58:28.952898 140408848086912 run_classifier.py:468] label: 1 (id = 0)\n",
            "I0723 18:58:28.958402 140408848086912 run_classifier.py:461] *** Example ***\n",
            "I0723 18:58:28.959461 140408848086912 run_classifier.py:462] guid: None\n",
            "I0723 18:58:28.960556 140408848086912 run_classifier.py:464] tokens: [CLS] т ##о ##и н ##я ##м ##а к ##а ##к д ##а н ##е в ##ка ##р ##а в ##с ##я ##ка т ##о ##п ##ка в к ##о ##р ##т ##а в м ##а ##ч н ##а к ##л ##е ##и . п ##о ##н ##я ##к ##о ##г ##а т ##ов ##а м ##о ##ж ##е д ##а с ##е с ##л ##у ##ч ##и н ##а м ##н ##о ##г ##о б ##ъ ##р ##з к ##о ##р ##т . т ##о ##и м ##о ##ж ##е д ##а с ##т ##р ##а ##д ##а м ##а ##л ##к ##о п ##ов ##е ##ч ##е , а ##к ##о с ##и с ##п ##о ##с ##о ##б ##е ##н д ##а г ##о [SEP]\n",
            "I0723 18:58:28.961558 140408848086912 run_classifier.py:465] input_ids: 101 1197 14150 10325 1192 17432 29745 10260 1189 10260 23925 1184 10260 1192 15290 1182 28598 16856 10260 1182 29747 17432 28598 1197 14150 29746 28598 1182 1189 14150 16856 22919 10260 1182 1191 10260 29752 1192 10260 1189 29436 15290 10325 1012 1194 14150 18947 17432 23925 14150 29741 10260 1197 19259 10260 1191 14150 29743 15290 1184 10260 1196 15290 1196 29436 29748 29752 10325 1192 10260 1191 18947 14150 29741 14150 1181 29755 16856 29744 1189 14150 16856 22919 1012 1197 14150 10325 1191 14150 29743 15290 1184 10260 1196 22919 16856 10260 29742 10260 1191 10260 29436 23925 14150 1194 19259 15290 29752 15290 1010 1180 23925 14150 1196 10325 1196 29746 14150 29747 14150 29740 15290 18947 1184 10260 1183 14150 102\n",
            "I0723 18:58:28.962528 140408848086912 run_classifier.py:466] input_mask: 1 1 1 1 1 1 1 1 1 1 1 1 1 1 1 1 1 1 1 1 1 1 1 1 1 1 1 1 1 1 1 1 1 1 1 1 1 1 1 1 1 1 1 1 1 1 1 1 1 1 1 1 1 1 1 1 1 1 1 1 1 1 1 1 1 1 1 1 1 1 1 1 1 1 1 1 1 1 1 1 1 1 1 1 1 1 1 1 1 1 1 1 1 1 1 1 1 1 1 1 1 1 1 1 1 1 1 1 1 1 1 1 1 1 1 1 1 1 1 1 1 1 1 1 1 1 1 1\n",
            "I0723 18:58:28.963593 140408848086912 run_classifier.py:467] segment_ids: 0 0 0 0 0 0 0 0 0 0 0 0 0 0 0 0 0 0 0 0 0 0 0 0 0 0 0 0 0 0 0 0 0 0 0 0 0 0 0 0 0 0 0 0 0 0 0 0 0 0 0 0 0 0 0 0 0 0 0 0 0 0 0 0 0 0 0 0 0 0 0 0 0 0 0 0 0 0 0 0 0 0 0 0 0 0 0 0 0 0 0 0 0 0 0 0 0 0 0 0 0 0 0 0 0 0 0 0 0 0 0 0 0 0 0 0 0 0 0 0 0 0 0 0 0 0 0 0\n",
            "I0723 18:58:28.964651 140408848086912 run_classifier.py:468] label: 0 (id = 1)\n",
            "I0723 18:58:28.967559 140408848086912 run_classifier.py:461] *** Example ***\n",
            "I0723 18:58:28.968518 140408848086912 run_classifier.py:462] guid: None\n",
            "I0723 18:58:28.969444 140408848086912 run_classifier.py:464] tokens: [CLS] п ##о ##з ##на ##в ##а ##м г ##о , г ##о ##л ##я ##м и з ##д ##р ##а ##в е , б ##и ##л с ##е е с д ##о ##б ##р ##и п ##р ##о ##т ##и ##в ##н ##и ##ц ##и . д ##ъ ##р ##ж ##и о ##б ##р ##а ##т ##е ##н г ##а ##р ##д , н ##о д ##о ##с ##е ##г ##а а ##з с ##ъ ##м н ##о ##ка ##у ##т ##и ##р ##а ##л в ##с ##и ##ч ##к ##и л ##евич ##а ##р ##и , к ##о ##и ##т ##о с ##а и ##з ##л ##е ##з ##л ##и с ##р ##е ##щ ##у м ##е ##н . а ##к ##о п ##и ##ан [SEP]\n",
            "I0723 18:58:28.970410 140408848086912 run_classifier.py:465] input_ids: 101 1194 14150 29744 19865 25529 10260 29745 1183 14150 1010 1183 14150 29436 17432 29745 1188 1187 29742 16856 10260 25529 1185 1010 1181 10325 29436 1196 15290 1185 1196 1184 14150 29740 16856 10325 1194 16856 14150 22919 10325 25529 18947 10325 29751 10325 1012 1184 29755 16856 29743 10325 1193 29740 16856 10260 22919 15290 18947 1183 10260 16856 29742 1010 1192 14150 1184 14150 29747 15290 29741 10260 1180 29744 1196 29755 29745 1192 14150 28598 29748 22919 10325 16856 10260 29436 1182 29747 10325 29752 23925 10325 1190 22646 10260 16856 10325 1010 1189 14150 10325 22919 14150 1196 10260 1188 29744 29436 15290 29744 29436 10325 1196 16856 15290 29754 29748 1191 15290 18947 1012 1180 23925 14150 1194 10325 28995 102\n",
            "I0723 18:58:28.971306 140408848086912 run_classifier.py:466] input_mask: 1 1 1 1 1 1 1 1 1 1 1 1 1 1 1 1 1 1 1 1 1 1 1 1 1 1 1 1 1 1 1 1 1 1 1 1 1 1 1 1 1 1 1 1 1 1 1 1 1 1 1 1 1 1 1 1 1 1 1 1 1 1 1 1 1 1 1 1 1 1 1 1 1 1 1 1 1 1 1 1 1 1 1 1 1 1 1 1 1 1 1 1 1 1 1 1 1 1 1 1 1 1 1 1 1 1 1 1 1 1 1 1 1 1 1 1 1 1 1 1 1 1 1 1 1 1 1 1\n",
            "I0723 18:58:28.972393 140408848086912 run_classifier.py:467] segment_ids: 0 0 0 0 0 0 0 0 0 0 0 0 0 0 0 0 0 0 0 0 0 0 0 0 0 0 0 0 0 0 0 0 0 0 0 0 0 0 0 0 0 0 0 0 0 0 0 0 0 0 0 0 0 0 0 0 0 0 0 0 0 0 0 0 0 0 0 0 0 0 0 0 0 0 0 0 0 0 0 0 0 0 0 0 0 0 0 0 0 0 0 0 0 0 0 0 0 0 0 0 0 0 0 0 0 0 0 0 0 0 0 0 0 0 0 0 0 0 0 0 0 0 0 0 0 0 0 0\n",
            "I0723 18:58:28.973364 140408848086912 run_classifier.py:468] label: 1 (id = 0)\n",
            "I0723 18:58:29.004012 140408848086912 estimator.py:209] Using config: {'_model_dir': 'output', '_tf_random_seed': None, '_save_summary_steps': 100, '_save_checkpoints_steps': 10000, '_save_checkpoints_secs': None, '_session_config': allow_soft_placement: true\n",
            "graph_options {\n",
            "  rewrite_options {\n",
            "    meta_optimizer_iterations: ONE\n",
            "  }\n",
            "}\n",
            ", '_keep_checkpoint_max': 5, '_keep_checkpoint_every_n_hours': 10000, '_log_step_count_steps': 100, '_train_distribute': None, '_device_fn': None, '_protocol': None, '_eval_distribute': None, '_experimental_distribute': None, '_experimental_max_worker_delay_secs': None, '_service': None, '_cluster_spec': <tensorflow.python.training.server_lib.ClusterSpec object at 0x7fb308d499b0>, '_task_type': 'worker', '_task_id': 0, '_global_id_in_cluster': 0, '_master': '', '_evaluation_master': '', '_is_chief': True, '_num_ps_replicas': 0, '_num_worker_replicas': 1}\n",
            "I0723 18:58:29.012568 140408848086912 estimator.py:360] Skipping training since max_steps has already saved.\n",
            "I0723 18:58:29.049263 140408848086912 estimator.py:1145] Calling model_fn.\n",
            "I0723 18:58:31.718056 140408848086912 saver.py:1499] Saver not created because there are no variables in the graph to restore\n",
            "W0723 18:58:31.849656 140408848086912 deprecation_wrapper.py:119] From /usr/local/lib/python3.6/dist-packages/bert_text/bert_text.py:59: The name tf.get_variable is deprecated. Please use tf.compat.v1.get_variable instead.\n",
            "\n",
            "W0723 18:58:31.863940 140408848086912 deprecation_wrapper.py:119] From /usr/local/lib/python3.6/dist-packages/bert_text/bert_text.py:66: The name tf.variable_scope is deprecated. Please use tf.compat.v1.variable_scope instead.\n",
            "\n",
            "W0723 18:58:31.865130 140408848086912 deprecation.py:506] From /usr/local/lib/python3.6/dist-packages/bert_text/bert_text.py:68: calling dropout (from tensorflow.python.ops.nn_ops) with keep_prob is deprecated and will be removed in a future version.\n",
            "Instructions for updating:\n",
            "Please use `rate` instead of `keep_prob`. Rate should be set to `rate = 1 - keep_prob`.\n",
            "W0723 18:58:31.904058 140408848086912 deprecation_wrapper.py:119] From /usr/local/lib/python3.6/dist-packages/bert/optimization.py:27: The name tf.train.get_or_create_global_step is deprecated. Please use tf.compat.v1.train.get_or_create_global_step instead.\n",
            "\n",
            "W0723 18:58:31.905815 140408848086912 deprecation_wrapper.py:119] From /usr/local/lib/python3.6/dist-packages/bert/optimization.py:32: The name tf.train.polynomial_decay is deprecated. Please use tf.compat.v1.train.polynomial_decay instead.\n",
            "\n",
            "W0723 18:58:31.914058 140408848086912 deprecation.py:323] From /usr/local/lib/python3.6/dist-packages/tensorflow/python/keras/optimizer_v2/learning_rate_schedule.py:409: div (from tensorflow.python.ops.math_ops) is deprecated and will be removed in a future version.\n",
            "Instructions for updating:\n",
            "Deprecated in favor of operator or tf.math.divide.\n",
            "W0723 18:58:31.928945 140408848086912 deprecation_wrapper.py:119] From /usr/local/lib/python3.6/dist-packages/bert/optimization.py:70: The name tf.trainable_variables is deprecated. Please use tf.compat.v1.trainable_variables instead.\n",
            "\n",
            "W0723 18:58:32.157099 140408848086912 deprecation.py:323] From /usr/local/lib/python3.6/dist-packages/tensorflow/python/ops/math_grad.py:1205: add_dispatch_support.<locals>.wrapper (from tensorflow.python.ops.array_ops) is deprecated and will be removed in a future version.\n",
            "Instructions for updating:\n",
            "Use tf.where in 2.0, which has the same broadcast rule as np.where\n",
            "/usr/local/lib/python3.6/dist-packages/tensorflow/python/ops/gradients_util.py:93: UserWarning: Converting sparse IndexedSlices to a dense Tensor of unknown shape. This may consume a large amount of memory.\n",
            "  \"Converting sparse IndexedSlices to a dense Tensor of unknown shape. \"\n",
            "W0723 18:58:40.071452 140408848086912 deprecation_wrapper.py:119] From /usr/local/lib/python3.6/dist-packages/bert_text/bert_text.py:115: The name tf.metrics.accuracy is deprecated. Please use tf.compat.v1.metrics.accuracy instead.\n",
            "\n",
            "W0723 18:58:41.085450 140408848086912 lazy_loader.py:50] \n",
            "The TensorFlow contrib module will not be included in TensorFlow 2.0.\n",
            "For more information, please see:\n",
            "  * https://github.com/tensorflow/community/blob/master/rfcs/20180907-contrib-sunset.md\n",
            "  * https://github.com/tensorflow/addons\n",
            "  * https://github.com/tensorflow/io (for I/O related ops)\n",
            "If you depend on functionality not listed there, please file an issue.\n",
            "\n",
            "W0723 18:58:41.191236 140408848086912 deprecation_wrapper.py:119] From /usr/local/lib/python3.6/dist-packages/bert_text/bert_text.py:119: The name tf.metrics.auc is deprecated. Please use tf.compat.v1.metrics.auc instead.\n",
            "\n",
            "W0723 18:58:41.299775 140408848086912 deprecation_wrapper.py:119] From /usr/local/lib/python3.6/dist-packages/bert_text/bert_text.py:122: The name tf.metrics.recall is deprecated. Please use tf.compat.v1.metrics.recall instead.\n",
            "\n",
            "W0723 18:58:41.373140 140408848086912 deprecation_wrapper.py:119] From /usr/local/lib/python3.6/dist-packages/bert_text/bert_text.py:125: The name tf.metrics.precision is deprecated. Please use tf.compat.v1.metrics.precision instead.\n",
            "\n",
            "W0723 18:58:41.446737 140408848086912 deprecation_wrapper.py:119] From /usr/local/lib/python3.6/dist-packages/bert_text/bert_text.py:128: The name tf.metrics.true_positives is deprecated. Please use tf.compat.v1.metrics.true_positives instead.\n",
            "\n",
            "I0723 18:58:41.553482 140408848086912 estimator.py:1147] Done calling model_fn.\n",
            "I0723 18:58:41.575556 140408848086912 evaluation.py:255] Starting evaluation at 2019-07-23T18:58:41Z\n",
            "I0723 18:58:42.897782 140408848086912 monitored_session.py:240] Graph was finalized.\n",
            "W0723 18:58:42.903735 140408848086912 deprecation.py:323] From /usr/local/lib/python3.6/dist-packages/tensorflow/python/training/saver.py:1276: checkpoint_exists (from tensorflow.python.training.checkpoint_management) is deprecated and will be removed in a future version.\n",
            "Instructions for updating:\n",
            "Use standard file APIs to check for files with this prefix.\n",
            "I0723 18:58:42.909579 140408848086912 saver.py:1280] Restoring parameters from output/model.ckpt-187\n",
            "I0723 18:58:46.132861 140408848086912 session_manager.py:500] Running local_init_op.\n",
            "I0723 18:58:46.353782 140408848086912 session_manager.py:502] Done running local_init_op.\n",
            "I0723 18:58:48.617574 140408848086912 evaluation.py:275] Finished evaluation at 2019-07-23-18:58:48\n",
            "I0723 18:58:48.618878 140408848086912 estimator.py:2039] Saving dict for global step 187: auc = 0.5, eval_accuracy = 0.6, f1_score = 0.57142854, false_negatives = 4.0, false_positives = 0.0, global_step = 187, loss = 0.94937, precision = 0.0, recall = 0.0, true_negatives = 6.0, true_positives = 0.0\n",
            "I0723 18:58:50.962535 140408848086912 estimator.py:2099] Saving 'checkpoint_path' summary for global step 187: output/model.ckpt-187\n"
          ],
          "name": "stderr"
        }
      ]
    },
    {
      "cell_type": "code",
      "metadata": {
        "id": "kaZMjQ0cIw9y",
        "colab_type": "code",
        "outputId": "52adb7a7-897a-4158-efec-43eee4710a69",
        "colab": {
          "base_uri": "https://localhost:8080/",
          "height": 204
        }
      },
      "source": [
        "result"
      ],
      "execution_count": 14,
      "outputs": [
        {
          "output_type": "execute_result",
          "data": {
            "text/plain": [
              "{'auc': 0.5,\n",
              " 'eval_accuracy': 0.6,\n",
              " 'f1_score': 0.57142854,\n",
              " 'false_negatives': 4.0,\n",
              " 'false_positives': 0.0,\n",
              " 'global_step': 187,\n",
              " 'loss': 0.94937,\n",
              " 'precision': 0.0,\n",
              " 'recall': 0.0,\n",
              " 'true_negatives': 6.0,\n",
              " 'true_positives': 0.0}"
            ]
          },
          "metadata": {
            "tags": []
          },
          "execution_count": 14
        }
      ]
    }
  ]
}