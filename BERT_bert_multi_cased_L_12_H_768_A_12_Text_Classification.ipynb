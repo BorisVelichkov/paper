{
  "nbformat": 4,
  "nbformat_minor": 0,
  "metadata": {
    "colab": {
      "name": "BERT - bert_multi_cased_L-12_H-768_A-12 - Text Classification.ipynb",
      "version": "0.3.2",
      "provenance": [],
      "collapsed_sections": []
    },
    "kernelspec": {
      "name": "python3",
      "display_name": "Python 3"
    },
    "accelerator": "GPU"
  },
  "cells": [
    {
      "cell_type": "markdown",
      "metadata": {
        "id": "zwYoyLfLQI-t",
        "colab_type": "text"
      },
      "source": [
        "base code borrowed from [this Google Colab Notebook](https://colab.research.google.com/github/google-research/bert/blob/master/predicting_movie_reviews_with_bert_on_tf_hub.ipynb).\n",
        "\n",
        "Refactored by [Shuyi Wang](https://www.linkedin.com/in/shuyi-wang-b3955026/) and [Yan Sun](https://github.com/SunYanCN)\n",
        "\n",
        "Please refer to [this Medium Article](https://medium.com/@wshuyi/how-to-do-text-binary-classification-with-bert-f1348a25d905) for detailed information.\n",
        "\n"
      ]
    },
    {
      "cell_type": "code",
      "metadata": {
        "id": "EQHcJlAgHZ2o",
        "colab_type": "code",
        "outputId": "d409ae0d-b219-439e-fe93-0efa0e2c36ad",
        "colab": {
          "base_uri": "https://localhost:8080/",
          "height": 496
        }
      },
      "source": [
        "!pip install bert-text"
      ],
      "execution_count": 1,
      "outputs": [
        {
          "output_type": "stream",
          "text": [
            "Requirement already satisfied: bert-text in /usr/local/lib/python3.6/dist-packages (5.0.0)\n",
            "Requirement already satisfied: six in /usr/local/lib/python3.6/dist-packages (from bert-text) (1.12.0)\n",
            "Requirement already satisfied: pandas in /usr/local/lib/python3.6/dist-packages (from bert-text) (0.24.2)\n",
            "Requirement already satisfied: tqdm in /usr/local/lib/python3.6/dist-packages (from bert-text) (4.28.1)\n",
            "Requirement already satisfied: tensorflow-gpu in /usr/local/lib/python3.6/dist-packages (from bert-text) (1.14.0)\n",
            "Requirement already satisfied: tensorflow-hub in /usr/local/lib/python3.6/dist-packages (from bert-text) (0.5.0)\n",
            "Requirement already satisfied: bert-tensorflow in /usr/local/lib/python3.6/dist-packages (from bert-text) (1.0.1)\n",
            "Requirement already satisfied: numpy>=1.12.0 in /usr/local/lib/python3.6/dist-packages (from pandas->bert-text) (1.16.4)\n",
            "Requirement already satisfied: pytz>=2011k in /usr/local/lib/python3.6/dist-packages (from pandas->bert-text) (2018.9)\n",
            "Requirement already satisfied: python-dateutil>=2.5.0 in /usr/local/lib/python3.6/dist-packages (from pandas->bert-text) (2.5.3)\n",
            "Requirement already satisfied: google-pasta>=0.1.6 in /usr/local/lib/python3.6/dist-packages (from tensorflow-gpu->bert-text) (0.1.7)\n",
            "Requirement already satisfied: astor>=0.6.0 in /usr/local/lib/python3.6/dist-packages (from tensorflow-gpu->bert-text) (0.8.0)\n",
            "Requirement already satisfied: absl-py>=0.7.0 in /usr/local/lib/python3.6/dist-packages (from tensorflow-gpu->bert-text) (0.7.1)\n",
            "Requirement already satisfied: termcolor>=1.1.0 in /usr/local/lib/python3.6/dist-packages (from tensorflow-gpu->bert-text) (1.1.0)\n",
            "Requirement already satisfied: gast>=0.2.0 in /usr/local/lib/python3.6/dist-packages (from tensorflow-gpu->bert-text) (0.2.2)\n",
            "Requirement already satisfied: wheel>=0.26 in /usr/local/lib/python3.6/dist-packages (from tensorflow-gpu->bert-text) (0.33.4)\n",
            "Requirement already satisfied: tensorboard<1.15.0,>=1.14.0 in /usr/local/lib/python3.6/dist-packages (from tensorflow-gpu->bert-text) (1.14.0)\n",
            "Requirement already satisfied: keras-applications>=1.0.6 in /usr/local/lib/python3.6/dist-packages (from tensorflow-gpu->bert-text) (1.0.8)\n",
            "Requirement already satisfied: tensorflow-estimator<1.15.0rc0,>=1.14.0rc0 in /usr/local/lib/python3.6/dist-packages (from tensorflow-gpu->bert-text) (1.14.0)\n",
            "Requirement already satisfied: keras-preprocessing>=1.0.5 in /usr/local/lib/python3.6/dist-packages (from tensorflow-gpu->bert-text) (1.1.0)\n",
            "Requirement already satisfied: grpcio>=1.8.6 in /usr/local/lib/python3.6/dist-packages (from tensorflow-gpu->bert-text) (1.15.0)\n",
            "Requirement already satisfied: wrapt>=1.11.1 in /usr/local/lib/python3.6/dist-packages (from tensorflow-gpu->bert-text) (1.11.2)\n",
            "Requirement already satisfied: protobuf>=3.6.1 in /usr/local/lib/python3.6/dist-packages (from tensorflow-gpu->bert-text) (3.7.1)\n",
            "Requirement already satisfied: setuptools>=41.0.0 in /usr/local/lib/python3.6/dist-packages (from tensorboard<1.15.0,>=1.14.0->tensorflow-gpu->bert-text) (41.0.1)\n",
            "Requirement already satisfied: werkzeug>=0.11.15 in /usr/local/lib/python3.6/dist-packages (from tensorboard<1.15.0,>=1.14.0->tensorflow-gpu->bert-text) (0.15.5)\n",
            "Requirement already satisfied: markdown>=2.6.8 in /usr/local/lib/python3.6/dist-packages (from tensorboard<1.15.0,>=1.14.0->tensorflow-gpu->bert-text) (3.1.1)\n",
            "Requirement already satisfied: h5py in /usr/local/lib/python3.6/dist-packages (from keras-applications>=1.0.6->tensorflow-gpu->bert-text) (2.8.0)\n"
          ],
          "name": "stdout"
        }
      ]
    },
    {
      "cell_type": "code",
      "metadata": {
        "id": "oZFDseXWHiSz",
        "colab_type": "code",
        "colab": {
          "base_uri": "https://localhost:8080/",
          "height": 156
        },
        "outputId": "cf8d93b5-35af-4857-cc12-ed7450486a40"
      },
      "source": [
        "from bert_text import run_on_dfs"
      ],
      "execution_count": 2,
      "outputs": [
        {
          "output_type": "stream",
          "text": [
            "WARNING: Logging before flag parsing goes to stderr.\n",
            "W0723 19:18:09.785237 140061423093632 deprecation_wrapper.py:119] From /usr/local/lib/python3.6/dist-packages/bert/optimization.py:87: The name tf.train.Optimizer is deprecated. Please use tf.compat.v1.train.Optimizer instead.\n",
            "\n",
            "W0723 19:18:09.788282 140061423093632 deprecation_wrapper.py:119] From /usr/local/lib/python3.6/dist-packages/bert_text/bert_text.py:10: The name tf.logging.set_verbosity is deprecated. Please use tf.compat.v1.logging.set_verbosity instead.\n",
            "\n",
            "W0723 19:18:09.789436 140061423093632 deprecation_wrapper.py:119] From /usr/local/lib/python3.6/dist-packages/bert_text/bert_text.py:10: The name tf.logging.ERROR is deprecated. Please use tf.compat.v1.logging.ERROR instead.\n",
            "\n"
          ],
          "name": "stderr"
        }
      ]
    },
    {
      "cell_type": "code",
      "metadata": {
        "id": "R4pBwSidH4CT",
        "colab_type": "code",
        "colab": {}
      },
      "source": [
        "import numpy as np\n",
        "import pandas as pd\n",
        "from sklearn.preprocessing import LabelEncoder\n",
        "from sklearn.model_selection import train_test_split"
      ],
      "execution_count": 0,
      "outputs": []
    },
    {
      "cell_type": "code",
      "metadata": {
        "id": "wiOyfxH6H5ry",
        "colab_type": "code",
        "outputId": "58b9e6dc-154c-45cc-be0a-6f6d2ca04472",
        "colab": {
          "base_uri": "https://localhost:8080/",
          "height": 204
        }
      },
      "source": [
        "!wget https://raw.githubusercontent.com/BorisVelichkov/paper/master/dataset/interviews.csv -P \"dataset\""
      ],
      "execution_count": 4,
      "outputs": [
        {
          "output_type": "stream",
          "text": [
            "--2019-07-23 19:18:16--  https://raw.githubusercontent.com/BorisVelichkov/paper/master/dataset/interviews.csv\n",
            "Resolving raw.githubusercontent.com (raw.githubusercontent.com)... 151.101.0.133, 151.101.64.133, 151.101.128.133, ...\n",
            "Connecting to raw.githubusercontent.com (raw.githubusercontent.com)|151.101.0.133|:443... connected.\n",
            "HTTP request sent, awaiting response... 200 OK\n",
            "Length: 71382 (70K) [text/plain]\n",
            "Saving to: ‘dataset/interviews.csv’\n",
            "\n",
            "\rinterviews.csv        0%[                    ]       0  --.-KB/s               \rinterviews.csv      100%[===================>]  69.71K  --.-KB/s    in 0.02s   \n",
            "\n",
            "2019-07-23 19:18:16 (3.37 MB/s) - ‘dataset/interviews.csv’ saved [71382/71382]\n",
            "\n"
          ],
          "name": "stdout"
        }
      ]
    },
    {
      "cell_type": "code",
      "metadata": {
        "id": "vEGtiE42IDyj",
        "colab_type": "code",
        "outputId": "915654c6-2291-49c3-d639-6c2e0ca83ef5",
        "colab": {
          "base_uri": "https://localhost:8080/",
          "height": 204
        }
      },
      "source": [
        "df = pd.read_csv('dataset/interviews.csv', index_col=0)\n",
        "df.head()"
      ],
      "execution_count": 5,
      "outputs": [
        {
          "output_type": "execute_result",
          "data": {
            "text/html": [
              "<div>\n",
              "<style scoped>\n",
              "    .dataframe tbody tr th:only-of-type {\n",
              "        vertical-align: middle;\n",
              "    }\n",
              "\n",
              "    .dataframe tbody tr th {\n",
              "        vertical-align: top;\n",
              "    }\n",
              "\n",
              "    .dataframe thead th {\n",
              "        text-align: right;\n",
              "    }\n",
              "</style>\n",
              "<table border=\"1\" class=\"dataframe\">\n",
              "  <thead>\n",
              "    <tr style=\"text-align: right;\">\n",
              "      <th></th>\n",
              "      <th>file_name</th>\n",
              "      <th>label</th>\n",
              "      <th>text</th>\n",
              "    </tr>\n",
              "  </thead>\n",
              "  <tbody>\n",
              "    <tr>\n",
              "      <th>0</th>\n",
              "      <td>BG_Box_AleksandarPovetkin_vs_AnthonyDjoshua_NO</td>\n",
              "      <td>NO</td>\n",
              "      <td>Аз съм в много добра форма, проведох отличен т...</td>\n",
              "    </tr>\n",
              "    <tr>\n",
              "      <th>1</th>\n",
              "      <td>BG_Box_AndiRuiz_vs_AnthonyDjoshua_YES</td>\n",
              "      <td>YES</td>\n",
              "      <td>Всички ме подценяват, но това ще бъде страшна ...</td>\n",
              "    </tr>\n",
              "    <tr>\n",
              "      <th>2</th>\n",
              "      <td>BG_Box_AnthonyDjoshua_vs_AleksandarPovetkin_YES</td>\n",
              "      <td>YES</td>\n",
              "      <td>Ако оставим настрана техниката и качествата, и...</td>\n",
              "    </tr>\n",
              "    <tr>\n",
              "      <th>3</th>\n",
              "      <td>BG_Box_AnthonyDjoshua_vs_AndiRuiz_NO</td>\n",
              "      <td>NO</td>\n",
              "      <td>Приемам мача с Анди напълно сериозно, изобщо н...</td>\n",
              "    </tr>\n",
              "    <tr>\n",
              "      <th>4</th>\n",
              "      <td>BG_Box_AntonyDjoshua_vs_VladimirKlichko_YES</td>\n",
              "      <td>YES</td>\n",
              "      <td>Бях изтласкан на места, където никога не съм б...</td>\n",
              "    </tr>\n",
              "  </tbody>\n",
              "</table>\n",
              "</div>"
            ],
            "text/plain": [
              "                                         file_name  ...                                               text\n",
              "0   BG_Box_AleksandarPovetkin_vs_AnthonyDjoshua_NO  ...  Аз съм в много добра форма, проведох отличен т...\n",
              "1            BG_Box_AndiRuiz_vs_AnthonyDjoshua_YES  ...  Всички ме подценяват, но това ще бъде страшна ...\n",
              "2  BG_Box_AnthonyDjoshua_vs_AleksandarPovetkin_YES  ...  Ако оставим настрана техниката и качествата, и...\n",
              "3             BG_Box_AnthonyDjoshua_vs_AndiRuiz_NO  ...  Приемам мача с Анди напълно сериозно, изобщо н...\n",
              "4      BG_Box_AntonyDjoshua_vs_VladimirKlichko_YES  ...  Бях изтласкан на места, където никога не съм б...\n",
              "\n",
              "[5 rows x 3 columns]"
            ]
          },
          "metadata": {
            "tags": []
          },
          "execution_count": 5
        }
      ]
    },
    {
      "cell_type": "code",
      "metadata": {
        "id": "P6wlSR8NIKHS",
        "colab_type": "code",
        "outputId": "dee36d10-2b6c-448c-c5de-5205b78daaf6",
        "colab": {
          "base_uri": "https://localhost:8080/",
          "height": 204
        }
      },
      "source": [
        "df.drop('file_name', axis=1, inplace=True)\n",
        "\n",
        "le = LabelEncoder()\n",
        "df['label'] = le.fit_transform(df['label'])\n",
        "\n",
        "df.head()"
      ],
      "execution_count": 6,
      "outputs": [
        {
          "output_type": "execute_result",
          "data": {
            "text/html": [
              "<div>\n",
              "<style scoped>\n",
              "    .dataframe tbody tr th:only-of-type {\n",
              "        vertical-align: middle;\n",
              "    }\n",
              "\n",
              "    .dataframe tbody tr th {\n",
              "        vertical-align: top;\n",
              "    }\n",
              "\n",
              "    .dataframe thead th {\n",
              "        text-align: right;\n",
              "    }\n",
              "</style>\n",
              "<table border=\"1\" class=\"dataframe\">\n",
              "  <thead>\n",
              "    <tr style=\"text-align: right;\">\n",
              "      <th></th>\n",
              "      <th>label</th>\n",
              "      <th>text</th>\n",
              "    </tr>\n",
              "  </thead>\n",
              "  <tbody>\n",
              "    <tr>\n",
              "      <th>0</th>\n",
              "      <td>0</td>\n",
              "      <td>Аз съм в много добра форма, проведох отличен т...</td>\n",
              "    </tr>\n",
              "    <tr>\n",
              "      <th>1</th>\n",
              "      <td>1</td>\n",
              "      <td>Всички ме подценяват, но това ще бъде страшна ...</td>\n",
              "    </tr>\n",
              "    <tr>\n",
              "      <th>2</th>\n",
              "      <td>1</td>\n",
              "      <td>Ако оставим настрана техниката и качествата, и...</td>\n",
              "    </tr>\n",
              "    <tr>\n",
              "      <th>3</th>\n",
              "      <td>0</td>\n",
              "      <td>Приемам мача с Анди напълно сериозно, изобщо н...</td>\n",
              "    </tr>\n",
              "    <tr>\n",
              "      <th>4</th>\n",
              "      <td>1</td>\n",
              "      <td>Бях изтласкан на места, където никога не съм б...</td>\n",
              "    </tr>\n",
              "  </tbody>\n",
              "</table>\n",
              "</div>"
            ],
            "text/plain": [
              "   label                                               text\n",
              "0      0  Аз съм в много добра форма, проведох отличен т...\n",
              "1      1  Всички ме подценяват, но това ще бъде страшна ...\n",
              "2      1  Ако оставим настрана техниката и качествата, и...\n",
              "3      0  Приемам мача с Анди напълно сериозно, изобщо н...\n",
              "4      1  Бях изтласкан на места, където никога не съм б..."
            ]
          },
          "metadata": {
            "tags": []
          },
          "execution_count": 6
        }
      ]
    },
    {
      "cell_type": "code",
      "metadata": {
        "id": "WYq0DgMM9V6s",
        "colab_type": "code",
        "colab": {}
      },
      "source": [
        "def gen_train_and_test(df, test_size=0.20, random_state=42):\n",
        "    X = df.loc[:, df.columns != 'label']\n",
        "    y = df.label\n",
        "    \n",
        "    X_train, X_test, y_train, y_test = train_test_split(X, y, test_size=test_size, random_state=random_state)\n",
        "    \n",
        "    train = X_train.join(y_train)\n",
        "    test = X_test.join(y_test)\n",
        "    \n",
        "    return train, test"
      ],
      "execution_count": 0,
      "outputs": []
    },
    {
      "cell_type": "code",
      "metadata": {
        "id": "7Hyj7rfVFIlB",
        "colab_type": "code",
        "colab": {}
      },
      "source": [
        "train, test = gen_train_and_test(df)"
      ],
      "execution_count": 0,
      "outputs": []
    },
    {
      "cell_type": "code",
      "metadata": {
        "id": "9nJGNGAAFL4H",
        "colab_type": "code",
        "outputId": "eb2769be-be50-4b85-cdc7-ef66d280eceb",
        "colab": {
          "base_uri": "https://localhost:8080/",
          "height": 204
        }
      },
      "source": [
        "train.head()"
      ],
      "execution_count": 9,
      "outputs": [
        {
          "output_type": "execute_result",
          "data": {
            "text/html": [
              "<div>\n",
              "<style scoped>\n",
              "    .dataframe tbody tr th:only-of-type {\n",
              "        vertical-align: middle;\n",
              "    }\n",
              "\n",
              "    .dataframe tbody tr th {\n",
              "        vertical-align: top;\n",
              "    }\n",
              "\n",
              "    .dataframe thead th {\n",
              "        text-align: right;\n",
              "    }\n",
              "</style>\n",
              "<table border=\"1\" class=\"dataframe\">\n",
              "  <thead>\n",
              "    <tr style=\"text-align: right;\">\n",
              "      <th></th>\n",
              "      <th>text</th>\n",
              "      <th>label</th>\n",
              "    </tr>\n",
              "  </thead>\n",
              "  <tbody>\n",
              "    <tr>\n",
              "      <th>12</th>\n",
              "      <td>Важно е да си концентриран и целенасочен в тов...</td>\n",
              "      <td>1</td>\n",
              "    </tr>\n",
              "    <tr>\n",
              "      <th>4</th>\n",
              "      <td>Бях изтласкан на места, където никога не съм б...</td>\n",
              "      <td>1</td>\n",
              "    </tr>\n",
              "    <tr>\n",
              "      <th>37</th>\n",
              "      <td>Сега оценявам и се радвам на всяка една победа...</td>\n",
              "      <td>0</td>\n",
              "    </tr>\n",
              "    <tr>\n",
              "      <th>8</th>\n",
              "      <td>С нетърпение очаквам битката с Кубрат Пулев.\\r...</td>\n",
              "      <td>0</td>\n",
              "    </tr>\n",
              "    <tr>\n",
              "      <th>3</th>\n",
              "      <td>Приемам мача с Анди напълно сериозно, изобщо н...</td>\n",
              "      <td>0</td>\n",
              "    </tr>\n",
              "  </tbody>\n",
              "</table>\n",
              "</div>"
            ],
            "text/plain": [
              "                                                 text  label\n",
              "12  Важно е да си концентриран и целенасочен в тов...      1\n",
              "4   Бях изтласкан на места, където никога не съм б...      1\n",
              "37  Сега оценявам и се радвам на всяка една победа...      0\n",
              "8   С нетърпение очаквам битката с Кубрат Пулев.\\r...      0\n",
              "3   Приемам мача с Анди напълно сериозно, изобщо н...      0"
            ]
          },
          "metadata": {
            "tags": []
          },
          "execution_count": 9
        }
      ]
    },
    {
      "cell_type": "code",
      "metadata": {
        "id": "SYm6NlVoFNvG",
        "colab_type": "code",
        "outputId": "5c76b96e-ddc5-417c-9586-e7bc9c3713b3",
        "colab": {
          "base_uri": "https://localhost:8080/",
          "height": 204
        }
      },
      "source": [
        "test.head()"
      ],
      "execution_count": 10,
      "outputs": [
        {
          "output_type": "execute_result",
          "data": {
            "text/html": [
              "<div>\n",
              "<style scoped>\n",
              "    .dataframe tbody tr th:only-of-type {\n",
              "        vertical-align: middle;\n",
              "    }\n",
              "\n",
              "    .dataframe tbody tr th {\n",
              "        vertical-align: top;\n",
              "    }\n",
              "\n",
              "    .dataframe thead th {\n",
              "        text-align: right;\n",
              "    }\n",
              "</style>\n",
              "<table border=\"1\" class=\"dataframe\">\n",
              "  <thead>\n",
              "    <tr style=\"text-align: right;\">\n",
              "      <th></th>\n",
              "      <th>text</th>\n",
              "      <th>label</th>\n",
              "    </tr>\n",
              "  </thead>\n",
              "  <tbody>\n",
              "    <tr>\n",
              "      <th>13</th>\n",
              "      <td>Статутът ми на фаворит не ми влияе, почти няма...</td>\n",
              "      <td>1</td>\n",
              "    </tr>\n",
              "    <tr>\n",
              "      <th>39</th>\n",
              "      <td>Във всеки един мач трябва да си подготвен.\\r\\n...</td>\n",
              "      <td>1</td>\n",
              "    </tr>\n",
              "    <tr>\n",
              "      <th>30</th>\n",
              "      <td>В Монте Карло изиграх добър мач срещу Димитров...</td>\n",
              "      <td>1</td>\n",
              "    </tr>\n",
              "    <tr>\n",
              "      <th>45</th>\n",
              "      <td>Той няма как да не вкара всяка топка в корта в...</td>\n",
              "      <td>0</td>\n",
              "    </tr>\n",
              "    <tr>\n",
              "      <th>17</th>\n",
              "      <td>Познавам го, голям и здрав е, бил се е с добри...</td>\n",
              "      <td>1</td>\n",
              "    </tr>\n",
              "  </tbody>\n",
              "</table>\n",
              "</div>"
            ],
            "text/plain": [
              "                                                 text  label\n",
              "13  Статутът ми на фаворит не ми влияе, почти няма...      1\n",
              "39  Във всеки един мач трябва да си подготвен.\\r\\n...      1\n",
              "30  В Монте Карло изиграх добър мач срещу Димитров...      1\n",
              "45  Той няма как да не вкара всяка топка в корта в...      0\n",
              "17  Познавам го, голям и здрав е, бил се е с добри...      1"
            ]
          },
          "metadata": {
            "tags": []
          },
          "execution_count": 10
        }
      ]
    },
    {
      "cell_type": "code",
      "metadata": {
        "id": "qCoK42AGIXsS",
        "colab_type": "code",
        "colab": {}
      },
      "source": [
        "myparam = {\n",
        "    \"DATA_COLUMN\": \"text\",\n",
        "    \"LABEL_COLUMN\": \"label\",\n",
        "    \"LEARNING_RATE\": 2e-5,\n",
        "    \"NUM_TRAIN_EPOCHS\": 100,\n",
        "    \"bert_model_hub\":\"https://tfhub.dev/google/bert_multi_cased_L-12_H-768_A-12/1\"\n",
        "}"
      ],
      "execution_count": 0,
      "outputs": []
    },
    {
      "cell_type": "code",
      "metadata": {
        "id": "SUwqGJuIfgap",
        "colab_type": "code",
        "colab": {}
      },
      "source": [
        "import tensorflow as tf\n",
        "tf.logging.set_verbosity(tf.logging.INFO)"
      ],
      "execution_count": 0,
      "outputs": []
    },
    {
      "cell_type": "code",
      "metadata": {
        "id": "YoOVNBr7IsjS",
        "colab_type": "code",
        "outputId": "36095a57-49f6-45d0-a0de-2d3502bf586e",
        "colab": {
          "base_uri": "https://localhost:8080/",
          "height": 1000
        }
      },
      "source": [
        "result, estimator = run_on_dfs(train, test, **myparam)"
      ],
      "execution_count": 13,
      "outputs": [
        {
          "output_type": "stream",
          "text": [
            "I0723 19:19:17.190720 140061423093632 saver.py:1499] Saver not created because there are no variables in the graph to restore\n",
            "W0723 19:19:17.321282 140061423093632 deprecation_wrapper.py:119] From /usr/local/lib/python3.6/dist-packages/bert_text/bert_text.py:19: The name tf.Session is deprecated. Please use tf.compat.v1.Session instead.\n",
            "\n",
            "W0723 19:19:18.270442 140061423093632 deprecation_wrapper.py:119] From /usr/local/lib/python3.6/dist-packages/bert/tokenization.py:125: The name tf.gfile.GFile is deprecated. Please use tf.io.gfile.GFile instead.\n",
            "\n",
            "W0723 19:19:18.691276 140061423093632 deprecation_wrapper.py:119] From /usr/local/lib/python3.6/dist-packages/bert/run_classifier.py:774: The name tf.logging.info is deprecated. Please use tf.compat.v1.logging.info instead.\n",
            "\n",
            "I0723 19:19:18.692321 140061423093632 run_classifier.py:774] Writing example 0 of 40\n",
            "I0723 19:19:18.697306 140061423093632 run_classifier.py:461] *** Example ***\n",
            "I0723 19:19:18.698803 140061423093632 run_classifier.py:462] guid: None\n",
            "I0723 19:19:18.700408 140061423093632 run_classifier.py:464] tokens: [CLS] В ##аж ##но е да си конце ##нт ##ри ##ран и цел ##ена ##со ##чен в това , което прави ##ш . Когато из ##ле ##зе ##ш на р ##инг ##а трябва да си бала ##нс ##иран . Х ##ю ##и Ф ##юри е се ##рио ##зен против ##ник . Той се е при ##го ##тви ##л много добре и и ##два с голям е ##ки ##п . Не ##гов т ##рен ##ьор е баща му . С ##мя ##там , че той е много голяма лично ##ст . З ##на ##чите ##лна част от п ##уб ##лика ##та ще го под ##к ##ре ##п ##я . В зала ##та о ##пр ##еде ##лено ще бъде интерес ##но . Ще бъде труд ##ен мач , в [SEP]\n",
            "I0723 19:19:18.701649 140061423093632 run_classifier.py:465] input_ids: 101 511 55522 10636 546 10405 12662 18895 17078 11777 16346 549 40951 12868 30604 16580 543 16060 117 19205 36574 11148 119 84942 10387 11851 15748 11148 10122 557 34369 10179 50082 10405 12662 78174 27875 58013 119 530 10593 10191 529 79712 546 10277 47881 61161 13488 11718 119 23106 10277 546 10913 10990 105808 10517 16318 39804 549 549 58438 558 67840 546 10648 11078 119 21124 47204 559 27332 61467 546 61642 12388 119 526 67382 49481 117 14816 14346 546 16318 52751 59573 11567 119 516 10409 64290 22579 18129 10332 556 40124 51002 10367 16892 11495 11429 10510 14348 11078 10385 119 511 95346 10367 555 35415 87097 25765 16892 37974 59075 10636 119 81442 37974 64073 10928 90532 117 543 102\n",
            "I0723 19:19:18.705053 140061423093632 run_classifier.py:466] input_mask: 1 1 1 1 1 1 1 1 1 1 1 1 1 1 1 1 1 1 1 1 1 1 1 1 1 1 1 1 1 1 1 1 1 1 1 1 1 1 1 1 1 1 1 1 1 1 1 1 1 1 1 1 1 1 1 1 1 1 1 1 1 1 1 1 1 1 1 1 1 1 1 1 1 1 1 1 1 1 1 1 1 1 1 1 1 1 1 1 1 1 1 1 1 1 1 1 1 1 1 1 1 1 1 1 1 1 1 1 1 1 1 1 1 1 1 1 1 1 1 1 1 1 1 1 1 1 1 1\n",
            "I0723 19:19:18.707081 140061423093632 run_classifier.py:467] segment_ids: 0 0 0 0 0 0 0 0 0 0 0 0 0 0 0 0 0 0 0 0 0 0 0 0 0 0 0 0 0 0 0 0 0 0 0 0 0 0 0 0 0 0 0 0 0 0 0 0 0 0 0 0 0 0 0 0 0 0 0 0 0 0 0 0 0 0 0 0 0 0 0 0 0 0 0 0 0 0 0 0 0 0 0 0 0 0 0 0 0 0 0 0 0 0 0 0 0 0 0 0 0 0 0 0 0 0 0 0 0 0 0 0 0 0 0 0 0 0 0 0 0 0 0 0 0 0 0 0\n",
            "I0723 19:19:18.708564 140061423093632 run_classifier.py:468] label: 1 (id = 0)\n",
            "I0723 19:19:18.713265 140061423093632 run_classifier.py:461] *** Example ***\n",
            "I0723 19:19:18.717429 140061423093632 run_classifier.py:462] guid: None\n",
            "I0723 19:19:18.718578 140061423093632 run_classifier.py:464] tokens: [CLS] Б ##ях из ##тла ##скан на места , където ни ##кога не с ##ъм бил из ##тла ##ск ##ван преди това . Ми ##сл ##я , че има ##м повече ум ##ора във ф ##ит ##нес ##а от ##кол ##кото по време на бит ##ките . По ##ня ##кога о ##пит ##вам не ##ща , които не работ ##ят и аз с ##ъм чу ##пи ##л р ##еб ##рата си , р ##ъка ##та си , из ##ва ##жда ##л с ##ъм р ##ам ##ото си , но го прав ##я заради ви ##сок ##ите си цели . Аз т ##рен ##ира ##х под при ##крити ##ето на м ##рака , за да мог ##а да б ##лес ##на под свет ##лини ##те на 29 април [SEP]\n",
            "I0723 19:19:18.719521 140061423093632 run_classifier.py:465] input_ids: 101 510 22828 10387 64357 14307 10122 19442 117 25375 19544 72223 10375 558 48477 14804 10387 64357 14958 20427 38509 16060 119 84078 102572 10385 117 14816 12977 10241 47391 39510 19553 17324 561 15811 38157 10179 10332 48613 39692 10297 13638 10122 97367 33868 119 11480 12751 72223 555 80465 65120 10375 15545 117 16031 10375 29432 13081 549 13452 558 48477 59172 20785 10517 557 59373 38790 12662 117 557 72101 10367 12662 117 10387 10852 38288 10517 558 48477 557 13157 19517 12662 117 11279 11495 41622 10385 52165 88504 45135 12673 12662 47053 119 47841 559 27332 25667 10353 11429 10913 77862 23197 10122 553 79765 117 10234 10405 40075 10179 10405 542 62903 10409 11429 40363 45180 10696 10122 10386 24600 102\n",
            "I0723 19:19:18.721072 140061423093632 run_classifier.py:466] input_mask: 1 1 1 1 1 1 1 1 1 1 1 1 1 1 1 1 1 1 1 1 1 1 1 1 1 1 1 1 1 1 1 1 1 1 1 1 1 1 1 1 1 1 1 1 1 1 1 1 1 1 1 1 1 1 1 1 1 1 1 1 1 1 1 1 1 1 1 1 1 1 1 1 1 1 1 1 1 1 1 1 1 1 1 1 1 1 1 1 1 1 1 1 1 1 1 1 1 1 1 1 1 1 1 1 1 1 1 1 1 1 1 1 1 1 1 1 1 1 1 1 1 1 1 1 1 1 1 1\n",
            "I0723 19:19:18.723226 140061423093632 run_classifier.py:467] segment_ids: 0 0 0 0 0 0 0 0 0 0 0 0 0 0 0 0 0 0 0 0 0 0 0 0 0 0 0 0 0 0 0 0 0 0 0 0 0 0 0 0 0 0 0 0 0 0 0 0 0 0 0 0 0 0 0 0 0 0 0 0 0 0 0 0 0 0 0 0 0 0 0 0 0 0 0 0 0 0 0 0 0 0 0 0 0 0 0 0 0 0 0 0 0 0 0 0 0 0 0 0 0 0 0 0 0 0 0 0 0 0 0 0 0 0 0 0 0 0 0 0 0 0 0 0 0 0 0 0\n",
            "I0723 19:19:18.724437 140061423093632 run_classifier.py:468] label: 1 (id = 0)\n",
            "I0723 19:19:18.731540 140061423093632 run_classifier.py:461] *** Example ***\n",
            "I0723 19:19:18.732612 140061423093632 run_classifier.py:462] guid: None\n",
            "I0723 19:19:18.733981 140061423093632 run_classifier.py:464] tokens: [CLS] Се ##га о ##цен ##ява ##м и се рад ##вам на всяка една победа , която пост ##и ##г ##на . На ##исти ##на не м ##е интерес ##ува срещу кого се из ##пра ##вя ##м , просто и ##ска ##м да по ##бе ##ждава ##м . Все пак с ##ъм играл срещу всеки от ел ##ита . Се ##га срещу С ##тан ще е един много , много ва ##жен мач за мен . Така ще е , защото има ##х много проблеми през последните два - три месеца . Т ##ря ##б ##ва да се от ##бе ##ле ##жи , че р ##ам ##ото ми не беше добре , не е добре . Много не ##ща се промени ##ха за мен . Да , [SEP]\n",
            "I0723 19:19:18.734869 140061423093632 run_classifier.py:465] input_ids: 101 52203 11347 555 88361 21411 10241 549 10277 53714 65120 10122 95186 19930 48270 117 18818 32825 10191 10823 10409 119 10778 81026 10409 10375 553 10205 59075 19322 30288 86701 10277 10387 76880 84322 10241 117 31108 549 12184 10241 10405 10297 18106 87055 10241 119 28572 57405 558 48477 38448 30288 68305 10332 30777 33227 119 52203 11347 30288 526 15061 16892 546 23727 16318 117 16318 12450 23855 90532 10234 13667 119 35150 16892 546 117 91300 12977 10353 16318 43577 12112 86447 12500 118 13251 76049 119 527 39025 12528 10852 10405 10277 10332 18106 11851 14974 117 14816 557 13157 19517 37140 10375 31650 39804 117 10375 546 39804 119 92215 10375 15545 10277 86437 16183 10234 13667 119 30417 117 102\n",
            "I0723 19:19:18.735793 140061423093632 run_classifier.py:466] input_mask: 1 1 1 1 1 1 1 1 1 1 1 1 1 1 1 1 1 1 1 1 1 1 1 1 1 1 1 1 1 1 1 1 1 1 1 1 1 1 1 1 1 1 1 1 1 1 1 1 1 1 1 1 1 1 1 1 1 1 1 1 1 1 1 1 1 1 1 1 1 1 1 1 1 1 1 1 1 1 1 1 1 1 1 1 1 1 1 1 1 1 1 1 1 1 1 1 1 1 1 1 1 1 1 1 1 1 1 1 1 1 1 1 1 1 1 1 1 1 1 1 1 1 1 1 1 1 1 1\n",
            "I0723 19:19:18.736759 140061423093632 run_classifier.py:467] segment_ids: 0 0 0 0 0 0 0 0 0 0 0 0 0 0 0 0 0 0 0 0 0 0 0 0 0 0 0 0 0 0 0 0 0 0 0 0 0 0 0 0 0 0 0 0 0 0 0 0 0 0 0 0 0 0 0 0 0 0 0 0 0 0 0 0 0 0 0 0 0 0 0 0 0 0 0 0 0 0 0 0 0 0 0 0 0 0 0 0 0 0 0 0 0 0 0 0 0 0 0 0 0 0 0 0 0 0 0 0 0 0 0 0 0 0 0 0 0 0 0 0 0 0 0 0 0 0 0 0\n",
            "I0723 19:19:18.738045 140061423093632 run_classifier.py:468] label: 0 (id = 1)\n",
            "I0723 19:19:18.752912 140061423093632 run_classifier.py:461] *** Example ***\n",
            "I0723 19:19:18.754056 140061423093632 run_classifier.py:462] guid: None\n",
            "I0723 19:19:18.755443 140061423093632 run_classifier.py:464] tokens: [CLS] С нет ##ър ##пен ##ие о ##чак ##вам битката с К ##уб ##рат П ##уле ##в . Пред ##сто ##и ми една с ##по ##кой ##на се ##д ##мица , през която ще се под ##го ##тв ##я за боя . Ще посет ##им и Пловдив . И ##два ##ли см ##е в България , когато б ##ях на 14 години . Има ##ме при ##ят ##ели ту ##к в София . О ##чак ##вам много п ##уб ##лика в зала ##та , но не ми ##сл ##я за нея . Само аз и той в р ##инг ##а , и това е един ##ствено ##то , което м ##е интерес ##ува . Това , че ще се би ##ем на неговата те ##рито ##рия само [SEP]\n",
            "I0723 19:19:18.756541 140061423093632 run_classifier.py:465] input_ids: 101 526 31428 19253 34210 12686 555 70526 65120 98517 558 519 40124 23444 524 63602 10541 119 42454 41054 10191 37140 19930 558 53204 14397 10409 10277 10746 91463 117 12112 18818 16892 10277 11429 10990 53980 10385 10234 57804 119 81442 37786 13478 549 77915 119 517 58438 10783 16541 10205 543 21065 117 31719 542 22828 10122 10247 15310 119 46601 14689 10913 13081 18400 37298 10510 543 21774 119 523 70526 65120 16318 556 40124 51002 543 95346 10367 117 11279 10375 37140 102572 10385 10234 51985 119 106347 13452 549 14346 543 557 34369 10179 117 549 16060 546 23727 57550 10752 117 19205 553 10205 59075 19322 119 36231 117 14816 16892 10277 16429 12579 10122 27563 13613 97364 20110 14847 102\n",
            "I0723 19:19:18.757888 140061423093632 run_classifier.py:466] input_mask: 1 1 1 1 1 1 1 1 1 1 1 1 1 1 1 1 1 1 1 1 1 1 1 1 1 1 1 1 1 1 1 1 1 1 1 1 1 1 1 1 1 1 1 1 1 1 1 1 1 1 1 1 1 1 1 1 1 1 1 1 1 1 1 1 1 1 1 1 1 1 1 1 1 1 1 1 1 1 1 1 1 1 1 1 1 1 1 1 1 1 1 1 1 1 1 1 1 1 1 1 1 1 1 1 1 1 1 1 1 1 1 1 1 1 1 1 1 1 1 1 1 1 1 1 1 1 1 1\n",
            "I0723 19:19:18.758932 140061423093632 run_classifier.py:467] segment_ids: 0 0 0 0 0 0 0 0 0 0 0 0 0 0 0 0 0 0 0 0 0 0 0 0 0 0 0 0 0 0 0 0 0 0 0 0 0 0 0 0 0 0 0 0 0 0 0 0 0 0 0 0 0 0 0 0 0 0 0 0 0 0 0 0 0 0 0 0 0 0 0 0 0 0 0 0 0 0 0 0 0 0 0 0 0 0 0 0 0 0 0 0 0 0 0 0 0 0 0 0 0 0 0 0 0 0 0 0 0 0 0 0 0 0 0 0 0 0 0 0 0 0 0 0 0 0 0 0\n",
            "I0723 19:19:18.759908 140061423093632 run_classifier.py:468] label: 0 (id = 1)\n",
            "I0723 19:19:18.763044 140061423093632 run_classifier.py:461] *** Example ***\n",
            "I0723 19:19:18.764460 140061423093632 run_classifier.py:462] guid: None\n",
            "I0723 19:19:18.765458 140061423093632 run_classifier.py:464] tokens: [CLS] При ##ема ##м мача с Ан ##ди на ##п ##ълно се ##рио ##зно , из ##об ##що не го под ##цен ##ява ##м . У ##ва ##жава ##м него и екипа му и това , че при ##е този с ##бл ##ъ ##с ##ък , когато няма ##ше ко ##й друг . Не ##зависимо как ##во каз ##ват бу ##к ##мей ##к ##ъри ##те той ще направи добър мач и ще ми с ##ъ ##зда ##де проблеми . Само от мен за ##вис ##и да го над ##хи ##тр ##я и пре ##чу ##п ##я . [SEP]\n",
            "I0723 19:19:18.766415 140061423093632 run_classifier.py:465] input_ids: 101 14337 27926 10241 71457 558 79524 12753 10122 11078 97448 10277 47881 52554 117 10387 33276 31593 10375 11495 11429 88361 21411 10241 119 528 10852 66153 10241 13981 549 105025 12388 549 16060 117 14816 10913 10205 26658 558 61394 30318 10513 24725 117 31719 26129 13391 59781 10384 26218 119 21124 95128 10949 15275 61195 18741 18261 10510 91201 10510 108080 10696 14346 16892 96569 108227 90532 549 16892 37140 558 30318 45076 12265 43577 119 106347 10332 13667 10234 110786 10191 10405 11495 12614 22710 46672 10385 549 38494 16501 11078 10385 119 102 0 0 0 0 0 0 0 0 0 0 0 0 0 0 0 0 0 0 0 0 0 0 0 0 0 0 0 0 0 0\n",
            "I0723 19:19:18.767491 140061423093632 run_classifier.py:466] input_mask: 1 1 1 1 1 1 1 1 1 1 1 1 1 1 1 1 1 1 1 1 1 1 1 1 1 1 1 1 1 1 1 1 1 1 1 1 1 1 1 1 1 1 1 1 1 1 1 1 1 1 1 1 1 1 1 1 1 1 1 1 1 1 1 1 1 1 1 1 1 1 1 1 1 1 1 1 1 1 1 1 1 1 1 1 1 1 1 1 1 1 1 1 1 1 1 1 1 1 0 0 0 0 0 0 0 0 0 0 0 0 0 0 0 0 0 0 0 0 0 0 0 0 0 0 0 0 0 0\n",
            "I0723 19:19:18.768565 140061423093632 run_classifier.py:467] segment_ids: 0 0 0 0 0 0 0 0 0 0 0 0 0 0 0 0 0 0 0 0 0 0 0 0 0 0 0 0 0 0 0 0 0 0 0 0 0 0 0 0 0 0 0 0 0 0 0 0 0 0 0 0 0 0 0 0 0 0 0 0 0 0 0 0 0 0 0 0 0 0 0 0 0 0 0 0 0 0 0 0 0 0 0 0 0 0 0 0 0 0 0 0 0 0 0 0 0 0 0 0 0 0 0 0 0 0 0 0 0 0 0 0 0 0 0 0 0 0 0 0 0 0 0 0 0 0 0 0\n",
            "I0723 19:19:18.769528 140061423093632 run_classifier.py:468] label: 0 (id = 1)\n",
            "I0723 19:19:18.906568 140061423093632 run_classifier.py:774] Writing example 0 of 10\n",
            "I0723 19:19:18.910090 140061423093632 run_classifier.py:461] *** Example ***\n",
            "I0723 19:19:18.911108 140061423093632 run_classifier.py:462] guid: None\n",
            "I0723 19:19:18.912418 140061423093632 run_classifier.py:464] tokens: [CLS] С ##тат ##ут ##ът ми на ф ##ав ##ори ##т не ми в ##лия ##е , почти няма на ##пр ##еж ##ение у мен . Но бо ##кс ##ът е спорт , в който вина ##ги може да има из ##нена ##да . За ##това с т ##рен ##ьор ##а ми говори ##х ##ме , че в първите р ##ун ##дов ##е трябва да б ##ъд ##а по - пред ##па ##зли ##в . С ##мя ##там , че с ##ъм добре под ##го ##тве ##н , все пак не играе ##м за световна ти ##тла . Под ##го ##тв ##ях се 2 - 3 месеца и мог ##а да ка ##жа , че необходимо ##то го направи ##х ##ме . Не мог ##а да ка [SEP]\n",
            "I0723 19:19:18.913764 140061423093632 run_classifier.py:465] input_ids: 101 526 61215 19691 13368 37140 10122 561 18197 30748 10351 10375 37140 543 22134 10205 117 21797 26129 10122 35415 49867 16241 560 13667 119 19732 18481 18705 13368 546 44505 117 543 16362 108208 14122 13076 10405 12977 10387 47062 10987 119 11712 41949 558 559 27332 61467 10179 37140 75353 10353 14689 117 14816 543 66285 557 16657 30470 10205 50082 10405 542 76475 10179 10297 118 23807 15118 91408 10541 119 526 67382 49481 117 14816 558 48477 39804 11429 10990 35795 10267 117 13686 57405 10375 61570 10241 10234 53760 30176 64357 119 23600 10990 53980 22828 10277 123 118 124 76049 549 40075 10179 10405 56280 17254 117 14816 58330 10752 11495 96569 10353 14689 119 21124 40075 10179 10405 56280 102\n",
            "I0723 19:19:18.914732 140061423093632 run_classifier.py:466] input_mask: 1 1 1 1 1 1 1 1 1 1 1 1 1 1 1 1 1 1 1 1 1 1 1 1 1 1 1 1 1 1 1 1 1 1 1 1 1 1 1 1 1 1 1 1 1 1 1 1 1 1 1 1 1 1 1 1 1 1 1 1 1 1 1 1 1 1 1 1 1 1 1 1 1 1 1 1 1 1 1 1 1 1 1 1 1 1 1 1 1 1 1 1 1 1 1 1 1 1 1 1 1 1 1 1 1 1 1 1 1 1 1 1 1 1 1 1 1 1 1 1 1 1 1 1 1 1 1 1\n",
            "I0723 19:19:18.915672 140061423093632 run_classifier.py:467] segment_ids: 0 0 0 0 0 0 0 0 0 0 0 0 0 0 0 0 0 0 0 0 0 0 0 0 0 0 0 0 0 0 0 0 0 0 0 0 0 0 0 0 0 0 0 0 0 0 0 0 0 0 0 0 0 0 0 0 0 0 0 0 0 0 0 0 0 0 0 0 0 0 0 0 0 0 0 0 0 0 0 0 0 0 0 0 0 0 0 0 0 0 0 0 0 0 0 0 0 0 0 0 0 0 0 0 0 0 0 0 0 0 0 0 0 0 0 0 0 0 0 0 0 0 0 0 0 0 0 0\n",
            "I0723 19:19:18.916954 140061423093632 run_classifier.py:468] label: 1 (id = 0)\n",
            "I0723 19:19:18.919844 140061423093632 run_classifier.py:461] *** Example ***\n",
            "I0723 19:19:18.920714 140061423093632 run_classifier.py:462] guid: None\n",
            "I0723 19:19:18.922415 140061423093632 run_classifier.py:464] tokens: [CLS] В ##ъв всеки един мач трябва да си под ##го ##тве ##н . Все ##ки един мач е раз ##ли ##чен от други ##я , така че трябва да се ф ##ок ##ус ##ира ##м върху игра ##та си и да под ##об ##ря някои от не ##щата , които не направи ##х добре в ##че ##ра . В ##си ##чко влиза в игра ##та . Те ##нис мач е , така че трябва да има един победи ##тел . [SEP]\n",
            "I0723 19:19:18.923605 140061423093632 run_classifier.py:465] input_ids: 101 511 40917 68305 23727 90532 50082 10405 12662 11429 10990 35795 10267 119 28572 10648 23727 90532 546 17257 10783 16580 10332 15757 10385 117 17690 14816 50082 10405 10277 561 11899 19954 25667 10241 38009 28940 10367 12662 549 10405 11429 33276 39025 42811 10332 10375 37447 117 16031 10375 96569 10353 39804 543 13873 11079 119 511 13700 28530 95681 543 28940 10367 119 39968 90323 90532 546 117 17690 14816 50082 10405 12977 23727 98652 23915 119 102 0 0 0 0 0 0 0 0 0 0 0 0 0 0 0 0 0 0 0 0 0 0 0 0 0 0 0 0 0 0 0 0 0 0 0 0 0 0 0 0 0 0 0 0 0 0\n",
            "I0723 19:19:18.925591 140061423093632 run_classifier.py:466] input_mask: 1 1 1 1 1 1 1 1 1 1 1 1 1 1 1 1 1 1 1 1 1 1 1 1 1 1 1 1 1 1 1 1 1 1 1 1 1 1 1 1 1 1 1 1 1 1 1 1 1 1 1 1 1 1 1 1 1 1 1 1 1 1 1 1 1 1 1 1 1 1 1 1 1 1 1 1 1 1 1 1 1 1 0 0 0 0 0 0 0 0 0 0 0 0 0 0 0 0 0 0 0 0 0 0 0 0 0 0 0 0 0 0 0 0 0 0 0 0 0 0 0 0 0 0 0 0 0 0\n",
            "I0723 19:19:18.928357 140061423093632 run_classifier.py:467] segment_ids: 0 0 0 0 0 0 0 0 0 0 0 0 0 0 0 0 0 0 0 0 0 0 0 0 0 0 0 0 0 0 0 0 0 0 0 0 0 0 0 0 0 0 0 0 0 0 0 0 0 0 0 0 0 0 0 0 0 0 0 0 0 0 0 0 0 0 0 0 0 0 0 0 0 0 0 0 0 0 0 0 0 0 0 0 0 0 0 0 0 0 0 0 0 0 0 0 0 0 0 0 0 0 0 0 0 0 0 0 0 0 0 0 0 0 0 0 0 0 0 0 0 0 0 0 0 0 0 0\n",
            "I0723 19:19:18.929229 140061423093632 run_classifier.py:468] label: 1 (id = 0)\n",
            "I0723 19:19:18.938326 140061423093632 run_classifier.py:461] *** Example ***\n",
            "I0723 19:19:18.940160 140061423093632 run_classifier.py:462] guid: None\n",
            "I0723 19:19:18.942865 140061423093632 run_classifier.py:464] tokens: [CLS] В М ##онте Карло из ##и ##гра ##х добър мач срещу Д ##ими ##тров , а в Мадрид б ##ях с ##ъв ##сем близо до победа ##та . З ##нам как ##во да на ##пра ##вя , за да го по ##бед ##я и ма ##кар че мин ##ала ##та се ##д ##мица не у ##с ##п ##ях , се над ##ява ##м трети ##ят път да ми е на к ##ъ ##с ##мет . Б ##ъл ##гари ##н ##ът е стр ##ах ##от ##ен та ##лан ##т , който може да играе добре на всяка пов ##ър ##х ##ност , и трябва да се пред ##став ##я на в ##ъ ##зможно най - високо ниво , за да ст ##и ##г ##на до победа ##та [SEP]\n",
            "I0723 19:19:18.943850 140061423093632 run_classifier.py:465] input_ids: 101 511 521 75714 82178 10387 10191 69330 10353 108227 90532 30288 513 22122 55132 117 541 543 74360 542 22828 558 40917 23629 88606 10344 48270 10367 119 516 78936 10949 15275 10405 10122 76880 84322 117 10234 10405 11495 10297 107813 10385 549 97744 40576 14816 72712 15522 10367 10277 10746 91463 10375 560 10513 11078 22828 117 10277 12614 21411 10241 109117 13081 31021 10405 37140 546 10122 551 30318 10513 50362 119 510 29238 79298 10267 13368 546 19240 12588 11016 10928 10475 19079 10351 117 16362 13076 10405 61570 39804 10122 95186 30148 19253 10353 19364 117 549 50082 10405 10277 23807 47151 10385 10122 543 30318 69373 15861 118 74937 62526 117 10234 10405 15888 10191 10823 10409 10344 48270 10367 102\n",
            "I0723 19:19:18.945255 140061423093632 run_classifier.py:466] input_mask: 1 1 1 1 1 1 1 1 1 1 1 1 1 1 1 1 1 1 1 1 1 1 1 1 1 1 1 1 1 1 1 1 1 1 1 1 1 1 1 1 1 1 1 1 1 1 1 1 1 1 1 1 1 1 1 1 1 1 1 1 1 1 1 1 1 1 1 1 1 1 1 1 1 1 1 1 1 1 1 1 1 1 1 1 1 1 1 1 1 1 1 1 1 1 1 1 1 1 1 1 1 1 1 1 1 1 1 1 1 1 1 1 1 1 1 1 1 1 1 1 1 1 1 1 1 1 1 1\n",
            "I0723 19:19:18.946974 140061423093632 run_classifier.py:467] segment_ids: 0 0 0 0 0 0 0 0 0 0 0 0 0 0 0 0 0 0 0 0 0 0 0 0 0 0 0 0 0 0 0 0 0 0 0 0 0 0 0 0 0 0 0 0 0 0 0 0 0 0 0 0 0 0 0 0 0 0 0 0 0 0 0 0 0 0 0 0 0 0 0 0 0 0 0 0 0 0 0 0 0 0 0 0 0 0 0 0 0 0 0 0 0 0 0 0 0 0 0 0 0 0 0 0 0 0 0 0 0 0 0 0 0 0 0 0 0 0 0 0 0 0 0 0 0 0 0 0\n",
            "I0723 19:19:18.950020 140061423093632 run_classifier.py:468] label: 1 (id = 0)\n",
            "I0723 19:19:18.956955 140061423093632 run_classifier.py:461] *** Example ***\n",
            "I0723 19:19:18.960048 140061423093632 run_classifier.py:462] guid: None\n",
            "I0723 19:19:18.962436 140061423093632 run_classifier.py:464] tokens: [CLS] Той няма как да не в ##кара всяка топ ##ка в кор ##та в мач на к ##лей . По ##ня ##кога това може да се сл ##учи на много б ##ър ##з кор ##т . Той може да стр ##ада малко повече , ако си с ##пособ ##ен да го пре ##си ##ра ##ш и през ця ##лото време да го поста ##вя ##ш под на ##пр ##еж ##ение . На к ##лей обаче не си пред ##став ##я ##ш как това би станал ##о , така че трябва да нам ##ер ##я решение . Т ##ий ##м играе стр ##ах ##от ##но . После ##дно с ##пе ##чели в Барселона , а преди това и в Ин ##ди ##ън У ##ел ##с . Вид [SEP]\n",
            "I0723 19:19:18.963935 140061423093632 run_classifier.py:465] input_ids: 101 23106 26129 10949 10405 10375 543 105330 95186 56575 10521 543 80062 10367 543 90532 10122 551 20929 119 11480 12751 72223 16060 13076 10405 10277 52399 83856 10122 16318 542 19253 11571 80062 10351 119 23106 13076 10405 19240 36069 51913 47391 117 33682 12662 558 97205 10928 10405 11495 38494 13700 11079 11148 549 12112 62265 48760 13638 10405 11495 80765 84322 11148 11429 10122 35415 49867 16241 119 10778 551 20929 54451 10375 12662 23807 47151 10385 11148 10949 16060 16429 78550 10316 117 17690 14816 50082 10405 59221 11977 10385 27319 119 527 11550 10241 61570 19240 12588 11016 10636 119 12834 32532 558 19820 99766 543 87567 117 541 38509 16060 549 543 28146 12753 22404 528 13519 10513 119 59699 102\n",
            "I0723 19:19:18.966196 140061423093632 run_classifier.py:466] input_mask: 1 1 1 1 1 1 1 1 1 1 1 1 1 1 1 1 1 1 1 1 1 1 1 1 1 1 1 1 1 1 1 1 1 1 1 1 1 1 1 1 1 1 1 1 1 1 1 1 1 1 1 1 1 1 1 1 1 1 1 1 1 1 1 1 1 1 1 1 1 1 1 1 1 1 1 1 1 1 1 1 1 1 1 1 1 1 1 1 1 1 1 1 1 1 1 1 1 1 1 1 1 1 1 1 1 1 1 1 1 1 1 1 1 1 1 1 1 1 1 1 1 1 1 1 1 1 1 1\n",
            "I0723 19:19:18.967528 140061423093632 run_classifier.py:467] segment_ids: 0 0 0 0 0 0 0 0 0 0 0 0 0 0 0 0 0 0 0 0 0 0 0 0 0 0 0 0 0 0 0 0 0 0 0 0 0 0 0 0 0 0 0 0 0 0 0 0 0 0 0 0 0 0 0 0 0 0 0 0 0 0 0 0 0 0 0 0 0 0 0 0 0 0 0 0 0 0 0 0 0 0 0 0 0 0 0 0 0 0 0 0 0 0 0 0 0 0 0 0 0 0 0 0 0 0 0 0 0 0 0 0 0 0 0 0 0 0 0 0 0 0 0 0 0 0 0 0\n",
            "I0723 19:19:18.968977 140061423093632 run_classifier.py:468] label: 0 (id = 1)\n",
            "I0723 19:19:18.972291 140061423093632 run_classifier.py:461] *** Example ***\n",
            "I0723 19:19:18.976302 140061423093632 run_classifier.py:462] guid: None\n",
            "I0723 19:19:18.977126 140061423093632 run_classifier.py:464] tokens: [CLS] По ##знав ##ам го , голям и з ##дра ##в е , бил се е с до ##бри против ##ници . Д ##ър ##жи об ##рат ##ен га ##рд , но до ##се ##га аз с ##ъм но ##ка ##ути ##рал всички ле ##вича ##ри , които са из ##ле ##зли срещу мен . Ако П ##иан ##ета м ##е би ##е , ще ла ##зя по цели ##я р ##инг и ще му цел ##уна к ##рака ##та . [SEP]\n",
            "I0723 19:19:18.977996 140061423093632 run_classifier.py:465] input_ids: 101 11480 86996 13157 11495 117 67840 549 548 35865 10541 546 117 14804 10277 546 558 10344 37950 13488 19429 119 513 19253 14974 13248 23444 10928 16616 23479 117 11279 10344 13110 11347 13452 558 48477 11279 10521 54330 31326 31425 94693 106599 11777 117 16031 10868 10387 11851 91408 30288 13667 119 52929 524 101587 20731 553 10205 16429 10205 117 16892 26670 81326 10297 47053 10385 557 34369 549 16892 12388 40951 27063 551 79765 10367 119 102 0 0 0 0 0 0 0 0 0 0 0 0 0 0 0 0 0 0 0 0 0 0 0 0 0 0 0 0 0 0 0 0 0 0 0 0 0 0 0 0 0 0 0 0 0 0\n",
            "I0723 19:19:18.978787 140061423093632 run_classifier.py:466] input_mask: 1 1 1 1 1 1 1 1 1 1 1 1 1 1 1 1 1 1 1 1 1 1 1 1 1 1 1 1 1 1 1 1 1 1 1 1 1 1 1 1 1 1 1 1 1 1 1 1 1 1 1 1 1 1 1 1 1 1 1 1 1 1 1 1 1 1 1 1 1 1 1 1 1 1 1 1 1 1 1 1 1 1 0 0 0 0 0 0 0 0 0 0 0 0 0 0 0 0 0 0 0 0 0 0 0 0 0 0 0 0 0 0 0 0 0 0 0 0 0 0 0 0 0 0 0 0 0 0\n",
            "I0723 19:19:18.979643 140061423093632 run_classifier.py:467] segment_ids: 0 0 0 0 0 0 0 0 0 0 0 0 0 0 0 0 0 0 0 0 0 0 0 0 0 0 0 0 0 0 0 0 0 0 0 0 0 0 0 0 0 0 0 0 0 0 0 0 0 0 0 0 0 0 0 0 0 0 0 0 0 0 0 0 0 0 0 0 0 0 0 0 0 0 0 0 0 0 0 0 0 0 0 0 0 0 0 0 0 0 0 0 0 0 0 0 0 0 0 0 0 0 0 0 0 0 0 0 0 0 0 0 0 0 0 0 0 0 0 0 0 0 0 0 0 0 0 0\n",
            "I0723 19:19:18.980438 140061423093632 run_classifier.py:468] label: 1 (id = 0)\n",
            "I0723 19:19:19.016139 140061423093632 estimator.py:209] Using config: {'_model_dir': 'output', '_tf_random_seed': None, '_save_summary_steps': 100, '_save_checkpoints_steps': 10000, '_save_checkpoints_secs': None, '_session_config': allow_soft_placement: true\n",
            "graph_options {\n",
            "  rewrite_options {\n",
            "    meta_optimizer_iterations: ONE\n",
            "  }\n",
            "}\n",
            ", '_keep_checkpoint_max': 5, '_keep_checkpoint_every_n_hours': 10000, '_log_step_count_steps': 100, '_train_distribute': None, '_device_fn': None, '_protocol': None, '_eval_distribute': None, '_experimental_distribute': None, '_experimental_max_worker_delay_secs': None, '_service': None, '_cluster_spec': <tensorflow.python.training.server_lib.ClusterSpec object at 0x7f6222f97e48>, '_task_type': 'worker', '_task_id': 0, '_global_id_in_cluster': 0, '_master': '', '_evaluation_master': '', '_is_chief': True, '_num_ps_replicas': 0, '_num_worker_replicas': 1}\n",
            "W0723 19:19:19.029830 140061423093632 deprecation.py:323] From /usr/local/lib/python3.6/dist-packages/tensorflow/python/training/training_util.py:236: Variable.initialized_value (from tensorflow.python.ops.variables) is deprecated and will be removed in a future version.\n",
            "Instructions for updating:\n",
            "Use Variable.read_value. Variables in 2.X are initialized automatically both in eager and graph (inside tf.defun) contexts.\n",
            "I0723 19:19:19.083106 140061423093632 estimator.py:1145] Calling model_fn.\n",
            "I0723 19:19:21.788943 140061423093632 saver.py:1499] Saver not created because there are no variables in the graph to restore\n",
            "W0723 19:19:21.917004 140061423093632 deprecation_wrapper.py:119] From /usr/local/lib/python3.6/dist-packages/bert_text/bert_text.py:59: The name tf.get_variable is deprecated. Please use tf.compat.v1.get_variable instead.\n",
            "\n",
            "W0723 19:19:21.930608 140061423093632 deprecation_wrapper.py:119] From /usr/local/lib/python3.6/dist-packages/bert_text/bert_text.py:66: The name tf.variable_scope is deprecated. Please use tf.compat.v1.variable_scope instead.\n",
            "\n",
            "W0723 19:19:21.931574 140061423093632 deprecation.py:506] From /usr/local/lib/python3.6/dist-packages/bert_text/bert_text.py:68: calling dropout (from tensorflow.python.ops.nn_ops) with keep_prob is deprecated and will be removed in a future version.\n",
            "Instructions for updating:\n",
            "Please use `rate` instead of `keep_prob`. Rate should be set to `rate = 1 - keep_prob`.\n",
            "W0723 19:19:21.971804 140061423093632 deprecation_wrapper.py:119] From /usr/local/lib/python3.6/dist-packages/bert/optimization.py:27: The name tf.train.get_or_create_global_step is deprecated. Please use tf.compat.v1.train.get_or_create_global_step instead.\n",
            "\n",
            "W0723 19:19:21.973500 140061423093632 deprecation_wrapper.py:119] From /usr/local/lib/python3.6/dist-packages/bert/optimization.py:32: The name tf.train.polynomial_decay is deprecated. Please use tf.compat.v1.train.polynomial_decay instead.\n",
            "\n",
            "W0723 19:19:21.981978 140061423093632 deprecation.py:323] From /usr/local/lib/python3.6/dist-packages/tensorflow/python/keras/optimizer_v2/learning_rate_schedule.py:409: div (from tensorflow.python.ops.math_ops) is deprecated and will be removed in a future version.\n",
            "Instructions for updating:\n",
            "Deprecated in favor of operator or tf.math.divide.\n",
            "W0723 19:19:21.995764 140061423093632 deprecation_wrapper.py:119] From /usr/local/lib/python3.6/dist-packages/bert/optimization.py:70: The name tf.trainable_variables is deprecated. Please use tf.compat.v1.trainable_variables instead.\n",
            "\n",
            "W0723 19:19:22.224252 140061423093632 deprecation.py:323] From /usr/local/lib/python3.6/dist-packages/tensorflow/python/ops/math_grad.py:1205: add_dispatch_support.<locals>.wrapper (from tensorflow.python.ops.array_ops) is deprecated and will be removed in a future version.\n",
            "Instructions for updating:\n",
            "Use tf.where in 2.0, which has the same broadcast rule as np.where\n",
            "/usr/local/lib/python3.6/dist-packages/tensorflow/python/ops/gradients_util.py:93: UserWarning: Converting sparse IndexedSlices to a dense Tensor of unknown shape. This may consume a large amount of memory.\n",
            "  \"Converting sparse IndexedSlices to a dense Tensor of unknown shape. \"\n",
            "W0723 19:19:30.224668 140061423093632 deprecation_wrapper.py:119] From /usr/local/lib/python3.6/dist-packages/bert_text/bert_text.py:115: The name tf.metrics.accuracy is deprecated. Please use tf.compat.v1.metrics.accuracy instead.\n",
            "\n",
            "W0723 19:19:30.684882 140061423093632 lazy_loader.py:50] \n",
            "The TensorFlow contrib module will not be included in TensorFlow 2.0.\n",
            "For more information, please see:\n",
            "  * https://github.com/tensorflow/community/blob/master/rfcs/20180907-contrib-sunset.md\n",
            "  * https://github.com/tensorflow/addons\n",
            "  * https://github.com/tensorflow/io (for I/O related ops)\n",
            "If you depend on functionality not listed there, please file an issue.\n",
            "\n",
            "W0723 19:19:30.786289 140061423093632 deprecation_wrapper.py:119] From /usr/local/lib/python3.6/dist-packages/bert_text/bert_text.py:119: The name tf.metrics.auc is deprecated. Please use tf.compat.v1.metrics.auc instead.\n",
            "\n",
            "W0723 19:19:30.893179 140061423093632 deprecation_wrapper.py:119] From /usr/local/lib/python3.6/dist-packages/bert_text/bert_text.py:122: The name tf.metrics.recall is deprecated. Please use tf.compat.v1.metrics.recall instead.\n",
            "\n",
            "W0723 19:19:30.967992 140061423093632 deprecation_wrapper.py:119] From /usr/local/lib/python3.6/dist-packages/bert_text/bert_text.py:125: The name tf.metrics.precision is deprecated. Please use tf.compat.v1.metrics.precision instead.\n",
            "\n",
            "W0723 19:19:31.042134 140061423093632 deprecation_wrapper.py:119] From /usr/local/lib/python3.6/dist-packages/bert_text/bert_text.py:128: The name tf.metrics.true_positives is deprecated. Please use tf.compat.v1.metrics.true_positives instead.\n",
            "\n",
            "I0723 19:19:31.148634 140061423093632 estimator.py:1147] Done calling model_fn.\n",
            "I0723 19:19:31.151264 140061423093632 basic_session_run_hooks.py:541] Create CheckpointSaverHook.\n",
            "I0723 19:19:34.571963 140061423093632 monitored_session.py:240] Graph was finalized.\n",
            "I0723 19:19:44.107211 140061423093632 session_manager.py:500] Running local_init_op.\n",
            "I0723 19:19:44.326144 140061423093632 session_manager.py:502] Done running local_init_op.\n",
            "I0723 19:19:52.815963 140061423093632 basic_session_run_hooks.py:606] Saving checkpoints for 0 into output/model.ckpt.\n",
            "I0723 19:20:09.585616 140061423093632 basic_session_run_hooks.py:262] loss = 0.71209145, step = 0\n",
            "I0723 19:21:58.576731 140061423093632 basic_session_run_hooks.py:692] global_step/sec: 0.9175\n",
            "I0723 19:21:58.578271 140061423093632 basic_session_run_hooks.py:260] loss = 0.000104626575, step = 100 (108.993 sec)\n",
            "I0723 19:22:21.205641 140061423093632 basic_session_run_hooks.py:606] Saving checkpoints for 125 into output/model.ckpt.\n",
            "I0723 19:22:30.859855 140061423093632 estimator.py:368] Loss for final step: 0.000101691425.\n",
            "I0723 19:22:30.889085 140061423093632 estimator.py:1145] Calling model_fn.\n",
            "I0723 19:22:33.891113 140061423093632 saver.py:1499] Saver not created because there are no variables in the graph to restore\n",
            "/usr/local/lib/python3.6/dist-packages/tensorflow/python/ops/gradients_util.py:93: UserWarning: Converting sparse IndexedSlices to a dense Tensor of unknown shape. This may consume a large amount of memory.\n",
            "  \"Converting sparse IndexedSlices to a dense Tensor of unknown shape. \"\n",
            "I0723 19:22:42.774520 140061423093632 estimator.py:1147] Done calling model_fn.\n",
            "I0723 19:22:42.796989 140061423093632 evaluation.py:255] Starting evaluation at 2019-07-23T19:22:42Z\n",
            "I0723 19:22:44.413386 140061423093632 monitored_session.py:240] Graph was finalized.\n",
            "W0723 19:22:44.417907 140061423093632 deprecation.py:323] From /usr/local/lib/python3.6/dist-packages/tensorflow/python/training/saver.py:1276: checkpoint_exists (from tensorflow.python.training.checkpoint_management) is deprecated and will be removed in a future version.\n",
            "Instructions for updating:\n",
            "Use standard file APIs to check for files with this prefix.\n",
            "I0723 19:22:44.426222 140061423093632 saver.py:1280] Restoring parameters from output/model.ckpt-125\n",
            "I0723 19:22:47.120791 140061423093632 session_manager.py:500] Running local_init_op.\n",
            "I0723 19:22:47.359289 140061423093632 session_manager.py:502] Done running local_init_op.\n",
            "I0723 19:22:49.442985 140061423093632 evaluation.py:275] Finished evaluation at 2019-07-23-19:22:49\n",
            "I0723 19:22:49.444166 140061423093632 estimator.py:2039] Saving dict for global step 125: auc = 0.625, eval_accuracy = 0.7, f1_score = 0.57142854, false_negatives = 3.0, false_positives = 0.0, global_step = 125, loss = 2.799212, precision = 1.0, recall = 0.25, true_negatives = 6.0, true_positives = 1.0\n",
            "I0723 19:22:51.655994 140061423093632 estimator.py:2099] Saving 'checkpoint_path' summary for global step 125: output/model.ckpt-125\n"
          ],
          "name": "stderr"
        }
      ]
    },
    {
      "cell_type": "code",
      "metadata": {
        "id": "kaZMjQ0cIw9y",
        "colab_type": "code",
        "outputId": "cb27330d-7d51-4119-a4c5-b6e96fba01b2",
        "colab": {
          "base_uri": "https://localhost:8080/",
          "height": 204
        }
      },
      "source": [
        "result"
      ],
      "execution_count": 14,
      "outputs": [
        {
          "output_type": "execute_result",
          "data": {
            "text/plain": [
              "{'auc': 0.625,\n",
              " 'eval_accuracy': 0.7,\n",
              " 'f1_score': 0.57142854,\n",
              " 'false_negatives': 3.0,\n",
              " 'false_positives': 0.0,\n",
              " 'global_step': 125,\n",
              " 'loss': 2.799212,\n",
              " 'precision': 1.0,\n",
              " 'recall': 0.25,\n",
              " 'true_negatives': 6.0,\n",
              " 'true_positives': 1.0}"
            ]
          },
          "metadata": {
            "tags": []
          },
          "execution_count": 14
        }
      ]
    }
  ]
}