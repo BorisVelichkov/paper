{
 "cells": [
  {
   "cell_type": "code",
   "execution_count": 1,
   "metadata": {},
   "outputs": [
    {
     "data": {
      "text/plain": [
       "'%.2f'"
      ]
     },
     "execution_count": 1,
     "metadata": {},
     "output_type": "execute_result"
    }
   ],
   "source": [
    "import glob\n",
    "import numpy as np\n",
    "import pandas as pd\n",
    "import matplotlib.pyplot as plt\n",
    "import seaborn as sns; sns.set()\n",
    "from sklearn.naive_bayes import GaussianNB\n",
    "from sklearn import svm\n",
    "from sklearn.metrics import classification_report\n",
    "from sklearn.metrics import accuracy_score\n",
    "from sklearn.metrics import confusion_matrix\n",
    "from skimage.transform import pyramid_gaussian\n",
    "from sklearn.model_selection import train_test_split\n",
    "from sklearn.metrics import average_precision_score\n",
    "from sklearn.metrics import precision_recall_curve\n",
    "from sklearn.model_selection import GridSearchCV\n",
    "from sklearn.model_selection import cross_val_score\n",
    "# import matplotlib.pyplot as plt\n",
    "from inspect import signature\n",
    "\n",
    "# print(glob.glob(\"../ILIYAN Master Thesis/Dataset/*\"))\n",
    "\n",
    "%matplotlib inline\n",
    "%precision 2"
   ]
  },
  {
   "cell_type": "code",
   "execution_count": 2,
   "metadata": {
    "collapsed": true
   },
   "outputs": [],
   "source": [
    "import time\n",
    "start_time = time.time()"
   ]
  },
  {
   "cell_type": "code",
   "execution_count": 3,
   "metadata": {
    "collapsed": true
   },
   "outputs": [],
   "source": [
    "df = pd.read_csv('dataset/word2vec/tfidf_stem_3.csv', index_col=0)\n",
    "df_t1 = pd.read_csv('dataset/w2v_fs/df_top_1_stem_3.csv', index_col=0)\n",
    "df_t1t2 = pd.read_csv('dataset/w2v_fs/df_top_1_and_2_stem_3.csv', index_col=0)"
   ]
  },
  {
   "cell_type": "code",
   "execution_count": 4,
   "metadata": {
    "collapsed": true
   },
   "outputs": [],
   "source": [
    "df_class = pd.read_csv('dataset/features_norm.csv', index_col=0)\n",
    "df['Class'] = df_class['Class']\n",
    "df_t1['Class'] = df_class['Class']\n",
    "df_t1t2['Class'] = df_class['Class']"
   ]
  },
  {
   "cell_type": "code",
   "execution_count": 5,
   "metadata": {
    "collapsed": true
   },
   "outputs": [],
   "source": [
    "def draw_confusionmatrix(y_test, y_hat):\n",
    "    plt.figure(figsize=(10,7))\n",
    "    cm = confusion_matrix(y_test, y_hat)\n",
    "    ax = sns.heatmap(cm, annot=True, fmt=\"d\")\n",
    "    plt.ylabel('True label')\n",
    "    plt.xlabel('Predicted label')\n",
    "\n",
    "    acc = accuracy_score(y_test, y_hat)\n",
    "    print(f\"Sum Axis-1 as Classification accuracy: {acc}\")\n",
    "    print('\\n')\n",
    "    print(classification_report(y_test, y_hat))\n",
    "    print('\\n')"
   ]
  },
  {
   "cell_type": "code",
   "execution_count": 6,
   "metadata": {
    "collapsed": true
   },
   "outputs": [],
   "source": [
    "def gen_train_and_test(df, test_size=0.20, random_state=42):\n",
    "    X = df.loc[:, df.columns != 'Class']\n",
    "    y = df.Class\n",
    "    \n",
    "    X_train, X_test, y_train, y_test = train_test_split(X, y, test_size=test_size, random_state=random_state)\n",
    "    \n",
    "    return X_train, X_test, y_train, y_test"
   ]
  },
  {
   "cell_type": "code",
   "execution_count": 7,
   "metadata": {
    "collapsed": true
   },
   "outputs": [],
   "source": [
    "def split_train_and_test(X, y, test_size=0.20, random_state=42):\n",
    "    X_train, X_test, y_train, y_test = train_test_split(X, y, test_size=test_size, random_state=random_state)    \n",
    "    return X_train, X_test, y_train, y_test"
   ]
  },
  {
   "cell_type": "code",
   "execution_count": 22,
   "metadata": {
    "collapsed": true
   },
   "outputs": [],
   "source": [
    "def start_model(df, model, cv=10):\n",
    "    X = df.loc[:, df.columns != 'Class']\n",
    "    y = df.Class\n",
    "    print(\" avg accuracy:\"+str(np.average(cross_val_score(model, X, y, scoring='accuracy', cv=cv))))\n",
    "    print(\"       avg f1:\"+str(np.average(cross_val_score(model, X, y, scoring='f1', cv=cv))))\n",
    "    print(\"avg precision:\"+str(np.average(cross_val_score(model, X, y, scoring='precision', cv=cv))))\n",
    "    print(\"   avg recall:\"+str(np.average(cross_val_score(model, X, y, scoring='recall', cv=cv))))"
   ]
  },
  {
   "cell_type": "code",
   "execution_count": 9,
   "metadata": {
    "collapsed": true
   },
   "outputs": [],
   "source": [
    "def start_grid_cv(df, cv=10, n_jobs=-1):\n",
    "    param_grid = {\n",
    "                  'kernel':('linear', 'rbf'),\n",
    "                  'C':(0.001, 0.01, 0.1, 0.25, 0.5, 0.75, 1, 10),\n",
    "                  'gamma': (0.001, 0.01, 0.1, 1,2,3,'auto'),\n",
    "                  'decision_function_shape':('ovo','ovr'),\n",
    "                  'shrinking':(True,False)\n",
    "                 }\n",
    "    X_train, X_test, y_train, y_test = gen_train_and_test(df)\n",
    "    clf = GridSearchCV(estimator=svm.SVC(), param_grid=param_grid, cv=cv, n_jobs=n_jobs)\n",
    "    clf.fit(X_train, y_train)\n",
    "    \n",
    "    print(\"avg accuracy:\"+str(np.average(cross_val_score(clf, X_train, y_train, scoring='accuracy'))))\n",
    "    print(\"avg f1:\"+str(np.average(cross_val_score(clf, X_train, y_train, scoring='f1'))))\n",
    "    print(\"avg precision:\"+str(np.average(cross_val_score(clf, X_train, y_train, scoring='precision'))))\n",
    "    print(\"avg recall:\"+str(np.average(cross_val_score(clf, X_train, y_train, scoring='recall'))))\n",
    "    \n",
    "    best_params = clf.best_params_\n",
    "    print(best_params)\n",
    "    \n",
    "    return best_params"
   ]
  },
  {
   "cell_type": "markdown",
   "metadata": {},
   "source": [
    "### Using \"df\""
   ]
  },
  {
   "cell_type": "code",
   "execution_count": 10,
   "metadata": {},
   "outputs": [
    {
     "name": "stdout",
     "output_type": "stream",
     "text": [
      "avg accuracy:0.549450549451\n",
      "avg f1:0.709090909091\n",
      "avg precision:0.549450549451\n",
      "avg recall:1.0\n",
      "{'C': 0.001, 'decision_function_shape': 'ovo', 'gamma': 0.001, 'kernel': 'linear', 'shrinking': True}\n"
     ]
    }
   ],
   "source": [
    "params = start_grid_cv(df, cv=10)"
   ]
  },
  {
   "cell_type": "code",
   "execution_count": 23,
   "metadata": {},
   "outputs": [
    {
     "name": "stdout",
     "output_type": "stream",
     "text": [
      " avg accuracy:0.56\n",
      "       avg f1:0.716666666667\n",
      "avg precision:0.56\n",
      "   avg recall:1.0\n"
     ]
    }
   ],
   "source": [
    "params = {'C': 0.001, 'decision_function_shape': 'ovo', 'gamma': 0.001, 'kernel': 'linear', 'shrinking': True}\n",
    "svm_gscv=svm.SVC(kernel=params['kernel'], C=params['C'], decision_function_shape=params['decision_function_shape'], gamma=params['gamma'], shrinking=params['shrinking'])\n",
    "\n",
    "start_model(df, model=svm_gscv)"
   ]
  },
  {
   "cell_type": "markdown",
   "metadata": {},
   "source": [
    "### Using \"df_t1\""
   ]
  },
  {
   "cell_type": "code",
   "execution_count": 13,
   "metadata": {},
   "outputs": [
    {
     "name": "stdout",
     "output_type": "stream",
     "text": [
      "avg accuracy:0.824175824176\n",
      "avg f1:0.857843137255\n",
      "avg precision:0.784259259259\n",
      "avg recall:0.958333333333\n",
      "{'C': 10, 'decision_function_shape': 'ovo', 'gamma': 1, 'kernel': 'rbf', 'shrinking': True}\n"
     ]
    }
   ],
   "source": [
    "params = start_grid_cv(df_t1, cv=10)"
   ]
  },
  {
   "cell_type": "code",
   "execution_count": 24,
   "metadata": {},
   "outputs": [
    {
     "name": "stdout",
     "output_type": "stream",
     "text": [
      " avg accuracy:0.938333333333\n",
      "       avg f1:0.951428571429\n",
      "avg precision:0.916666666667\n",
      "   avg recall:1.0\n"
     ]
    }
   ],
   "source": [
    "params = {'C': 10, 'decision_function_shape': 'ovo', 'gamma': 1, 'kernel': 'rbf', 'shrinking': True}\n",
    "svm_gscv=svm.SVC(kernel=params['kernel'], C=params['C'], decision_function_shape=params['decision_function_shape'], gamma=params['gamma'], shrinking=params['shrinking'])\n",
    "\n",
    "start_model(df_t1, model=svm_gscv)"
   ]
  },
  {
   "cell_type": "markdown",
   "metadata": {},
   "source": [
    "### Using \"df_t1t2\""
   ]
  },
  {
   "cell_type": "code",
   "execution_count": 16,
   "metadata": {},
   "outputs": [
    {
     "name": "stdout",
     "output_type": "stream",
     "text": [
      "avg accuracy:0.873626373626\n",
      "avg f1:0.894444444444\n",
      "avg precision:0.851851851852\n",
      "avg recall:0.958333333333\n",
      "{'C': 10, 'decision_function_shape': 'ovo', 'gamma': 1, 'kernel': 'rbf', 'shrinking': True}\n"
     ]
    }
   ],
   "source": [
    "params = start_grid_cv(df_t1t2, cv=10)"
   ]
  },
  {
   "cell_type": "code",
   "execution_count": 25,
   "metadata": {},
   "outputs": [
    {
     "name": "stdout",
     "output_type": "stream",
     "text": [
      " avg accuracy:0.918333333333\n",
      "       avg f1:0.940714285714\n",
      "avg precision:0.901666666667\n",
      "   avg recall:1.0\n"
     ]
    }
   ],
   "source": [
    "params = {'C': 10, 'decision_function_shape': 'ovo', 'gamma': 1, 'kernel': 'rbf', 'shrinking': True}\n",
    "svm_gscv=svm.SVC(kernel=params['kernel'], C=params['C'], decision_function_shape=params['decision_function_shape'], gamma=params['gamma'], shrinking=params['shrinking'])\n",
    "\n",
    "start_model(df_t1t2, model=svm_gscv)"
   ]
  },
  {
   "cell_type": "code",
   "execution_count": 19,
   "metadata": {},
   "outputs": [
    {
     "data": {
      "text/plain": [
       "'00:18:54'"
      ]
     },
     "execution_count": 19,
     "metadata": {},
     "output_type": "execute_result"
    }
   ],
   "source": [
    "elapsed_time = time.time() - start_time\n",
    "time.strftime(\"%H:%M:%S\", time.gmtime(elapsed_time))"
   ]
  }
 ],
 "metadata": {
  "kernelspec": {
   "display_name": "Python 3",
   "language": "python",
   "name": "python3"
  },
  "language_info": {
   "codemirror_mode": {
    "name": "ipython",
    "version": 3
   },
   "file_extension": ".py",
   "mimetype": "text/x-python",
   "name": "python",
   "nbconvert_exporter": "python",
   "pygments_lexer": "ipython3",
   "version": "3.6.3"
  }
 },
 "nbformat": 4,
 "nbformat_minor": 2
}
